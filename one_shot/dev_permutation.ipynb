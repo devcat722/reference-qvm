{
 "cells": [
  {
   "cell_type": "code",
   "execution_count": 2,
   "metadata": {
    "collapsed": true
   },
   "outputs": [],
   "source": [
    "from qvm import tensor_gates\n",
    "from unitary_generator import apply_gate, permutation_arbitrary\n",
    "from gates import gate_matrix\n",
    "import numpy as np\n",
    "from pyquil.quil import Program\n",
    "from pyquil.gates import *"
   ]
  },
  {
   "cell_type": "markdown",
   "metadata": {},
   "source": [
    "## Testing"
   ]
  },
  {
   "cell_type": "code",
   "execution_count": 3,
   "metadata": {},
   "outputs": [
    {
     "data": {
      "text/plain": [
       "(<8x8 sparse matrix of type '<type 'numpy.complex128'>'\n",
       " \twith 8 stored elements in Compressed Sparse Row format>, array([0, 2, 1]), 1)"
      ]
     },
     "execution_count": 3,
     "metadata": {},
     "output_type": "execute_result"
    }
   ],
   "source": [
    "args = (0, 2)\n",
    "num_qubits = 3\n",
    "permutation_arbitrary(args, num_qubits)"
   ]
  },
  {
   "cell_type": "code",
   "execution_count": 4,
   "metadata": {},
   "outputs": [
    {
     "data": {
      "text/plain": [
       "(<4096x4096 sparse matrix of type '<type 'numpy.complex128'>'\n",
       " \twith 4096 stored elements in Compressed Sparse Row format>,\n",
       " array([11, 10,  9,  7,  2,  3,  4,  5,  1,  6,  8,  0]),\n",
       " 1)"
      ]
     },
     "execution_count": 4,
     "metadata": {},
     "output_type": "execute_result"
    }
   ],
   "source": [
    "args = (2, 3, 4, 5, 1, 6, 8)\n",
    "num_qubits = 12\n",
    "permutation_arbitrary(args, num_qubits)"
   ]
  },
  {
   "cell_type": "code",
   "execution_count": 22,
   "metadata": {},
   "outputs": [
    {
     "name": "stdout",
     "output_type": "stream",
     "text": [
      "[0 2]\n",
      "[2 1]\n",
      "[2 1 0]\n",
      "iterating over indices again...\n",
      "[1 2 0]\n",
      "made it\n",
      "[0 2 1]\n",
      "1\n",
      "(0, 2)\n",
      "[0 2 1]\n",
      "[[ 1.  0.  0.  0.  0.  0.  0.  0.]\n",
      " [ 0.  0.  0.  0.  1.  0.  0.  0.]\n",
      " [ 0.  0.  1.  0.  0.  0.  0.  0.]\n",
      " [ 0.  0.  0.  0.  0.  0.  1.  0.]\n",
      " [ 0.  1.  0.  0.  0.  0.  0.  0.]\n",
      " [ 0.  0.  0.  0.  0.  1.  0.  0.]\n",
      " [ 0.  0.  0.  1.  0.  0.  0.  0.]\n",
      " [ 0.  0.  0.  0.  0.  0.  0.  1.]]\n"
     ]
    },
    {
     "name": "stderr",
     "output_type": "stream",
     "text": [
      "/home/richard-zhu/.local/lib/python2.7/site-packages/ipykernel_launcher.py:1: ComplexWarning: Casting complex values to real discards the imaginary part\n",
      "  \"\"\"Entry point for launching an IPython kernel.\n"
     ]
    }
   ],
   "source": [
    "print apply_gate(gate_matrix['SWAP'], (0, 2), 3).toarray().astype(np.float64)"
   ]
  },
  {
   "cell_type": "code",
   "execution_count": 21,
   "metadata": {},
   "outputs": [
    {
     "data": {
      "text/plain": [
       "array([[ 1.,  0.,  0.,  0.,  0.,  0.,  0.,  0.],\n",
       "       [ 0.,  0.,  1.,  0.,  0.,  0.,  0.,  0.],\n",
       "       [ 0.,  1.,  0.,  0.,  0.,  0.,  0.,  0.],\n",
       "       [ 0.,  0.,  0.,  1.,  0.,  0.,  0.,  0.],\n",
       "       [ 0.,  0.,  0.,  0.,  1.,  0.,  0.,  0.],\n",
       "       [ 0.,  0.,  0.,  0.,  0.,  0.,  1.,  0.],\n",
       "       [ 0.,  0.,  0.,  0.,  0.,  1.,  0.,  0.],\n",
       "       [ 0.,  0.,  0.,  0.,  0.,  0.,  0.,  1.]])"
      ]
     },
     "execution_count": 21,
     "metadata": {},
     "output_type": "execute_result"
    }
   ],
   "source": [
    "np.kron(np.eye(2),  gate_matrix['SWAP'])"
   ]
  },
  {
   "cell_type": "markdown",
   "metadata": {},
   "source": [
    "## Development"
   ]
  },
  {
   "cell_type": "code",
   "execution_count": 86,
   "metadata": {},
   "outputs": [
    {
     "data": {
      "text/plain": [
       "[10, 9, 8, 7, 6]"
      ]
     },
     "execution_count": 86,
     "metadata": {},
     "output_type": "execute_result"
    }
   ],
   "source": [
    "range(10, 5, -1)"
   ]
  },
  {
   "cell_type": "code",
   "execution_count": 6,
   "metadata": {
    "collapsed": true
   },
   "outputs": [],
   "source": [
    "def swap_inds_helper(i, j, arr):\n",
    "    tmp = arr[i]\n",
    "    arr[i] = arr[j]\n",
    "    arr[j] = tmp\n",
    "    \n",
    "def two_swap(j, k, ind_arr):\n",
    "    \"\"\"\n",
    "    \"\"\"\n",
    "    new_arr = np.copy(ind_arr)\n",
    "    if j == k:\n",
    "        return new_arr\n",
    "    elif j > k:\n",
    "        for i in xrange(j, k, -1):\n",
    "            swap_inds_helper(i - 1, i, new_arr)\n",
    "    elif j < k:\n",
    "        for i in xrange(j, k, 1):\n",
    "            swap_inds_helper(i, i + 1, new_arr)\n",
    "    return new_arr"
   ]
  },
  {
   "cell_type": "code",
   "execution_count": 75,
   "metadata": {
    "collapsed": true
   },
   "outputs": [],
   "source": [
    "num_qubits = 24\n",
    "k = 24\n",
    "# inds = np.array([20, 15, 10, 0, 1, 2, 3, 4])\n",
    "inds = np.random.choice(num_qubits, k, replace=False)"
   ]
  },
  {
   "cell_type": "code",
   "execution_count": 82,
   "metadata": {
    "collapsed": true
   },
   "outputs": [],
   "source": [
    "num_qubits = 3\n",
    "inds = np.array([1, 2])"
   ]
  },
  {
   "cell_type": "code",
   "execution_count": 83,
   "metadata": {},
   "outputs": [
    {
     "name": "stdout",
     "output_type": "stream",
     "text": [
      "[1 2]\n",
      "[2 1]\n"
     ]
    }
   ],
   "source": [
    "# First, sort the list and find the median.\n",
    "sort_i = np.argsort(inds)\n",
    "sorted_inds = inds[sort_i]\n",
    "med_i = int(len(sort_i) / 2)\n",
    "med = sorted_inds[med_i]\n",
    "\n",
    "# The starting position of all specified Hilbert spaces begins at \n",
    "# the qubit at (median - med_i)\n",
    "start = med - med_i\n",
    "# Array of final indices the arguments are mapped to, from \n",
    "# high index to low index, left to right ordering\n",
    "final_map = np.arange(start, start + len(inds))[::-1]\n",
    "start_i = final_map[-1]\n",
    "\n",
    "print inds \n",
    "print final_map\n",
    "qubit_arr = np.arange(num_qubits)"
   ]
  },
  {
   "cell_type": "code",
   "execution_count": 84,
   "metadata": {},
   "outputs": [
    {
     "name": "stdout",
     "output_type": "stream",
     "text": [
      "iterating over indices again...\n",
      "[0 2 1]\n",
      "made it\n"
     ]
    }
   ],
   "source": [
    "made_it = False\n",
    "while made_it == False:\n",
    "    print \"iterating over indices again...\"\n",
    "    for i in range(len(inds)):\n",
    "        qubit_arr = two_swap(np.where(qubit_arr == inds[i])[0][0], final_map[i], qubit_arr)\n",
    "        print qubit_arr\n",
    "        if np.allclose(qubit_arr[final_map[-1]:final_map[0] + 1][::-1], inds):\n",
    "            print \"made it\"\n",
    "            made_it = True\n",
    "            break\n"
   ]
  }
 ],
 "metadata": {
  "kernelspec": {
   "display_name": "Python 2",
   "language": "python",
   "name": "python2"
  },
  "language_info": {
   "codemirror_mode": {
    "name": "ipython",
    "version": 2
   },
   "file_extension": ".py",
   "mimetype": "text/x-python",
   "name": "python",
   "nbconvert_exporter": "python",
   "pygments_lexer": "ipython2",
   "version": "2.7.12"
  }
 },
 "nbformat": 4,
 "nbformat_minor": 2
}
