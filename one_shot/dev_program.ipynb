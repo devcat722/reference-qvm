{
 "cells": [
  {
   "cell_type": "markdown",
   "metadata": {},
   "source": [
    "# Necessary imports"
   ]
  },
  {
   "cell_type": "code",
   "execution_count": 14,
   "metadata": {},
   "outputs": [],
   "source": [
    "import numpy as np\n",
    "from pyquil.quil import Program\n",
    "from pyquil.gates import *\n",
    "\n",
    "from pyquil.resource_manager import (DirectQubit)\n",
    "from pyquil.quilbase import *\n",
    "\n",
    "# from pyquil.quilbase import (Instr, Addr, DefGate, Gate, Measurement, If, While, InstructionGroup)\n",
    "\n",
    "# from pyquil.quilbase import (InstructionGroup, Instr,\n",
    "#                        Slot,\n",
    "#                        Addr,\n",
    "#                        While,\n",
    "#                        If,\n",
    "#                        DefGate,\n",
    "#                        Gate)\n",
    "\n",
    "from qvm import tensor_gates\n",
    "from unitary_generator import apply_gate, permutation_arbitrary, lifted_gate\n",
    "from gates import gate_matrix, utility_gates"
   ]
  },
  {
   "cell_type": "markdown",
   "metadata": {},
   "source": [
    "## Helper functions"
   ]
  },
  {
   "cell_type": "code",
   "execution_count": 5,
   "metadata": {
    "collapsed": true
   },
   "outputs": [],
   "source": [
    "def value(param_obj):\n",
    "    if isinstance(param_obj, (float, int, long)):\n",
    "        return param_obj\n",
    "    elif isinstance(param_obj, DirectQubit):\n",
    "        return param_obj._index\n",
    "    elif isinstance(param_obj, Addr):\n",
    "        return param_obj.address\n",
    "    elif isinstance(param_obj, Slot):\n",
    "        return param_obj.value()"
   ]
  },
  {
   "cell_type": "markdown",
   "metadata": {},
   "source": [
    "## Control flow"
   ]
  },
  {
   "cell_type": "code",
   "execution_count": 49,
   "metadata": {},
   "outputs": [
    {
     "data": {
      "text/plain": [
       "<pyquil.quil.Program at 0x7f391c16f150>"
      ]
     },
     "execution_count": 49,
     "metadata": {},
     "output_type": "execute_result"
    }
   ],
   "source": [
    "p = Program().defgate('id', [[1.0, 0.0], [0.0, 1.0]])\n",
    "branch_a = Program().inst(('id', 0)).inst(H(0), MEASURE(0), WAIT, RESET, HALT, H(0), NOP).inst(TRUE(0))\n",
    "branch_b = Program().defgate('HAD', np.array([[1, 1], [1, -1]]) / np.sqrt(2.)).inst(('HAD', 2))\n",
    "p.if_then(0, branch_a, branch_b)"
   ]
  },
  {
   "cell_type": "code",
   "execution_count": 50,
   "metadata": {},
   "outputs": [
    {
     "name": "stdout",
     "output_type": "stream",
     "text": [
      "DEFGATE id:\n",
      "    1.0, 0.0\n",
      "    0.0, 1.0\n",
      "\n",
      "JUMP-WHEN @THEN19 [0]\n",
      "HAD 2\n",
      "JUMP @END20\n",
      "LABEL @THEN19\n",
      "id 0\n",
      "H 0\n",
      "MEASURE 0\n",
      "WAIT\n",
      "RESET\n",
      "HALT\n",
      "H 0\n",
      "NOP\n",
      "TRUE [0]\n",
      "LABEL @END20\n",
      "\n",
      "set([])\n"
     ]
    }
   ],
   "source": [
    "print p\n",
    "print p.get_qubits()"
   ]
  },
  {
   "cell_type": "code",
   "execution_count": 51,
   "metadata": {},
   "outputs": [
    {
     "data": {
      "text/plain": [
       "[<pyquil.quilbase.JumpWhen at 0x7f391c1640d0>,\n",
       " <pyquil.quilbase.Instr at 0x7f391c16f5d0>,\n",
       " <pyquil.quilbase.Jump at 0x7f391c1641d0>,\n",
       " <JumpTarget @THEN23>,\n",
       " <pyquil.quilbase.Instr at 0x7f391c16f2d0>,\n",
       " <Gate: H 0>,\n",
       " <pyquil.quilbase.Measurement at 0x7f391c16f390>,\n",
       " <pyquil.quilbase.Wait at 0x7f391d7c6fd0>,\n",
       " <pyquil.quilbase.Reset at 0x7f391d7ce050>,\n",
       " <pyquil.quilbase.Halt at 0x7f391d7e7250>,\n",
       " <Gate: H 0>,\n",
       " <pyquil.quilbase.Nop at 0x7f391d7cecd0>,\n",
       " <pyquil.quilbase.ClassicalTrue at 0x7f391c16f490>,\n",
       " <JumpTarget @END24>]"
      ]
     },
     "execution_count": 51,
     "metadata": {},
     "output_type": "execute_result"
    }
   ],
   "source": [
    "p_obj = p.synthesize()\n",
    "p_obj"
   ]
  },
  {
   "cell_type": "code",
   "execution_count": 67,
   "metadata": {},
   "outputs": [
    {
     "data": {
      "text/plain": [
       "True"
      ]
     },
     "execution_count": 67,
     "metadata": {},
     "output_type": "execute_result"
    }
   ],
   "source": [
    "p_obj[0].target == p_obj[3].label"
   ]
  },
  {
   "cell_type": "code",
   "execution_count": 33,
   "metadata": {},
   "outputs": [
    {
     "name": "stdout",
     "output_type": "stream",
     "text": [
      "[0]\n",
      "id 0\n",
      "H 0\n",
      "MEASURE 0\n",
      "WAIT\n",
      "RESET\n",
      "HALT\n",
      "H 0\n",
      "NOP\n",
      "TRUE(0)\n",
      "\n",
      "HAD 2\n",
      "\n"
     ]
    }
   ],
   "source": [
    "for i, e in enumerate(p.actions):\n",
    "    print e[1].condition\n",
    "    print e[1].Then\n",
    "    print e[1].Else"
   ]
  },
  {
   "cell_type": "code",
   "execution_count": 22,
   "metadata": {},
   "outputs": [
    {
     "name": "stdout",
     "output_type": "stream",
     "text": [
      "DEFGATE id:\n",
      "    1.0, 0.0\n",
      "    0.0, 1.0\n",
      "\n",
      "JUMP-WHEN @THEN19 [0]\n",
      "HAD 2\n",
      "JUMP @END20\n",
      "LABEL @THEN19\n",
      "id 0\n",
      "H 0\n",
      "MEASURE 0\n",
      "WAIT\n",
      "RESET\n",
      "HALT\n",
      "H 0\n",
      "NOP\n",
      "TRUE(0)\n",
      "LABEL @END20\n",
      "\n"
     ]
    }
   ],
   "source": [
    "print p"
   ]
  },
  {
   "cell_type": "markdown",
   "metadata": {},
   "source": [
    "## Raw control (Jump, Label)"
   ]
  },
  {
   "cell_type": "code",
   "execution_count": 6,
   "metadata": {},
   "outputs": [
    {
     "name": "stdout",
     "output_type": "stream",
     "text": [
      "DEFGATE id:\n",
      "    1.0, 0.0\n",
      "    0.0, 1.0\n",
      "\n",
      "LABEL gcd-one\n",
      "H 3\n",
      "TRUE [0]\n",
      "JUMP gcd-one\n",
      "id 3\n",
      "\n"
     ]
    }
   ],
   "source": [
    "p = Program().defgate('id', [[1.0, 0.0], [0.0, 1.0]])\n",
    "p.inst(('LABEL', 'gcd-one'), H(3), TRUE(0), ('JUMP', 'gcd-one'), ('id', 3))\n",
    "print p"
   ]
  },
  {
   "cell_type": "code",
   "execution_count": 11,
   "metadata": {},
   "outputs": [
    {
     "name": "stdout",
     "output_type": "stream",
     "text": [
      "DEFGATE id:\n",
      "    1.0, 0.0\n",
      "    0.0, 1.0\n",
      "\n",
      "LABEL gcd-one\n",
      "H 3\n",
      "TRUE [0]\n",
      "JUMP gcd-one\n",
      "id 3\n",
      "\n"
     ]
    }
   ],
   "source": [
    "print p"
   ]
  },
  {
   "cell_type": "code",
   "execution_count": 12,
   "metadata": {},
   "outputs": [
    {
     "data": {
      "text/plain": [
       "[<pyquil.quilbase.Instr at 0x7f391c486f10>,\n",
       " <Gate: H 3>,\n",
       " <pyquil.quilbase.ClassicalTrue at 0x7f391c486e90>,\n",
       " <pyquil.quilbase.Instr at 0x7f391c486f50>,\n",
       " <pyquil.quilbase.Instr at 0x7f391c486f90>]"
      ]
     },
     "execution_count": 12,
     "metadata": {},
     "output_type": "execute_result"
    }
   ],
   "source": [
    "p_obj = p.synthesize()\n",
    "p_obj"
   ]
  },
  {
   "cell_type": "code",
   "execution_count": 13,
   "metadata": {},
   "outputs": [
    {
     "name": "stdout",
     "output_type": "stream",
     "text": [
      "LABEL\n",
      "H\n",
      "JUMP\n",
      "id\n"
     ]
    }
   ],
   "source": [
    "for i in p_obj:\n",
    "    if isinstance(i, Instr):\n",
    "        print i.operator_name\n",
    "    print i."
   ]
  },
  {
   "cell_type": "code",
   "execution_count": 34,
   "metadata": {},
   "outputs": [
    {
     "name": "stdout",
     "output_type": "stream",
     "text": [
      "True\n",
      "<Instr LABEL>\n",
      "True\n",
      "H 3\n",
      "False\n",
      "TRUE [0]\n"
     ]
    }
   ],
   "source": [
    "for i, action in enumerate(p.actions):\n",
    "    print isinstance(action[1], Instr)\n",
    "    print action[1]"
   ]
  },
  {
   "cell_type": "code",
   "execution_count": null,
   "metadata": {
    "collapsed": true
   },
   "outputs": [],
   "source": [
    "branch_a = Program().inst(('id', 0)).inst(H(0), MEASURE(0), WAIT, RESET, HALT, H(0), NOP).inst(('TRUE', [0]))\n",
    "branch_b = Program().defgate('HAD', np.array([[1, 1], [1, -1]]) / np.sqrt(2.)).inst(('HAD', 2))\n",
    "p.if_then(0, branch_a, branch_b)"
   ]
  },
  {
   "cell_type": "markdown",
   "metadata": {},
   "source": [
    "## Regular gates"
   ]
  },
  {
   "cell_type": "code",
   "execution_count": 8,
   "metadata": {},
   "outputs": [
    {
     "name": "stdout",
     "output_type": "stream",
     "text": [
      "H 2\n",
      "\n"
     ]
    }
   ],
   "source": [
    "p = Program().inst(('H', 2))\n",
    "print p\n",
    "defined_gates = p.defined_gates"
   ]
  },
  {
   "cell_type": "code",
   "execution_count": 9,
   "metadata": {},
   "outputs": [
    {
     "name": "stdout",
     "output_type": "stream",
     "text": [
      "H\n",
      "[]\n",
      "[2]\n"
     ]
    }
   ],
   "source": [
    "gate_obj = p.actions[0][1]\n",
    "print gate_obj.operator_name\n",
    "print gate_obj.parameters\n",
    "print gate_obj.arguments"
   ]
  },
  {
   "cell_type": "code",
   "execution_count": 15,
   "metadata": {},
   "outputs": [
    {
     "data": {
      "text/plain": [
       "list"
      ]
     },
     "execution_count": 15,
     "metadata": {},
     "output_type": "execute_result"
    }
   ],
   "source": [
    "type(gate_obj.arguments)"
   ]
  },
  {
   "cell_type": "code",
   "execution_count": 11,
   "metadata": {},
   "outputs": [
    {
     "name": "stdout",
     "output_type": "stream",
     "text": [
      "unitary_gen computed result\n",
      "[[ 0.7071  0.      0.      0.      0.7071  0.      0.      0.    ]\n",
      " [ 0.      0.7071  0.      0.      0.      0.7071  0.      0.    ]\n",
      " [ 0.      0.      0.7071  0.      0.      0.      0.7071  0.    ]\n",
      " [ 0.      0.      0.      0.7071  0.      0.      0.      0.7071]\n",
      " [ 0.7071  0.      0.      0.     -0.7071  0.      0.      0.    ]\n",
      " [ 0.      0.7071  0.      0.      0.     -0.7071  0.      0.    ]\n",
      " [ 0.      0.      0.7071  0.      0.      0.     -0.7071  0.    ]\n",
      " [ 0.      0.      0.      0.7071  0.      0.      0.     -0.7071]]\n",
      "theoretical result\n",
      "[[ 0.7071  0.      0.      0.      0.7071  0.      0.      0.    ]\n",
      " [ 0.      0.7071  0.      0.      0.      0.7071  0.      0.    ]\n",
      " [ 0.      0.      0.7071  0.      0.      0.      0.7071  0.    ]\n",
      " [ 0.      0.      0.      0.7071  0.      0.      0.      0.7071]\n",
      " [ 0.7071  0.      0.      0.     -0.7071 -0.     -0.     -0.    ]\n",
      " [ 0.      0.7071  0.      0.     -0.     -0.7071 -0.     -0.    ]\n",
      " [ 0.      0.      0.7071  0.     -0.     -0.     -0.7071 -0.    ]\n",
      " [ 0.      0.      0.      0.7071 -0.     -0.     -0.     -0.7071]]\n",
      "do they agree? True\n"
     ]
    },
    {
     "name": "stderr",
     "output_type": "stream",
     "text": [
      "/home/richard-zhu/.local/lib/python2.7/site-packages/ipykernel_launcher.py:2: ComplexWarning: Casting complex values to real discards the imaginary part\n",
      "  \n"
     ]
    }
   ],
   "source": [
    "np.set_printoptions(precision=4)\n",
    "exp = tensor_gates(gate_obj, gate_matrix, defined_gates, 3).toarray().astype(np.float64)\n",
    "print \"unitary_gen computed result\"\n",
    "print exp\n",
    "\n",
    "theory = np.kron(gate_matrix['H'], np.kron(np.eye(2), np.eye(2)))\n",
    "print \"theoretical result\"\n",
    "print theory\n",
    "\n",
    "print \"do they agree? {}\".format(np.allclose(exp, theory))"
   ]
  },
  {
   "cell_type": "code",
   "execution_count": 12,
   "metadata": {},
   "outputs": [
    {
     "data": {
      "text/plain": [
       "array([[ 1.,  0.,  0.,  0.],\n",
       "       [ 0.,  1.,  0.,  0.],\n",
       "       [ 0.,  0.,  1.,  0.],\n",
       "       [ 0.,  0.,  0.,  1.]])"
      ]
     },
     "execution_count": 12,
     "metadata": {},
     "output_type": "execute_result"
    }
   ],
   "source": [
    "np.kron(np.eye(2), np.eye(2))"
   ]
  },
  {
   "cell_type": "markdown",
   "metadata": {},
   "source": [
    "## Defined gates (static and parametric)"
   ]
  },
  {
   "cell_type": "code",
   "execution_count": 3,
   "metadata": {},
   "outputs": [
    {
     "name": "stdout",
     "output_type": "stream",
     "text": [
      "DEFGATE HAD:\n",
      "    0, 1\n",
      "    1, 0\n",
      "\n",
      "HAD 3\n",
      "\n"
     ]
    }
   ],
   "source": [
    "p = Program().defgate('HAD', np.array([[0, 1], [1, 0]]))\n",
    "p.inst(('HAD', 3))\n",
    "print p"
   ]
  },
  {
   "cell_type": "code",
   "execution_count": 4,
   "metadata": {},
   "outputs": [
    {
     "name": "stdout",
     "output_type": "stream",
     "text": [
      "HAD\n",
      "[]\n",
      "[3]\n"
     ]
    }
   ],
   "source": [
    "dg_obj = p.actions[0][1]\n",
    "    \n",
    "print dg_obj.operator_name\n",
    "print dg_obj.parameters\n",
    "print dg_obj.arguments"
   ]
  },
  {
   "cell_type": "code",
   "execution_count": 5,
   "metadata": {},
   "outputs": [
    {
     "name": "stdout",
     "output_type": "stream",
     "text": [
      "{'HAD': array([[0, 1],\n",
      "       [1, 0]])}\n"
     ]
    }
   ],
   "source": [
    "defined_gates = {}\n",
    "defined_gates[p.defined_gates[0].name] = p.defined_gates[0].matrix\n",
    "print defined_gates"
   ]
  },
  {
   "cell_type": "code",
   "execution_count": 6,
   "metadata": {},
   "outputs": [
    {
     "name": "stdout",
     "output_type": "stream",
     "text": [
      "[[ 0.  0.  0.  0.  0.  0.  0.  0.  1.  0.  0.  0.  0.  0.  0.  0.]\n",
      " [ 0.  0.  0.  0.  0.  0.  0.  0.  0.  1.  0.  0.  0.  0.  0.  0.]\n",
      " [ 0.  0.  0.  0.  0.  0.  0.  0.  0.  0.  1.  0.  0.  0.  0.  0.]\n",
      " [ 0.  0.  0.  0.  0.  0.  0.  0.  0.  0.  0.  1.  0.  0.  0.  0.]\n",
      " [ 0.  0.  0.  0.  0.  0.  0.  0.  0.  0.  0.  0.  1.  0.  0.  0.]\n",
      " [ 0.  0.  0.  0.  0.  0.  0.  0.  0.  0.  0.  0.  0.  1.  0.  0.]\n",
      " [ 0.  0.  0.  0.  0.  0.  0.  0.  0.  0.  0.  0.  0.  0.  1.  0.]\n",
      " [ 0.  0.  0.  0.  0.  0.  0.  0.  0.  0.  0.  0.  0.  0.  0.  1.]\n",
      " [ 1.  0.  0.  0.  0.  0.  0.  0.  0.  0.  0.  0.  0.  0.  0.  0.]\n",
      " [ 0.  1.  0.  0.  0.  0.  0.  0.  0.  0.  0.  0.  0.  0.  0.  0.]\n",
      " [ 0.  0.  1.  0.  0.  0.  0.  0.  0.  0.  0.  0.  0.  0.  0.  0.]\n",
      " [ 0.  0.  0.  1.  0.  0.  0.  0.  0.  0.  0.  0.  0.  0.  0.  0.]\n",
      " [ 0.  0.  0.  0.  1.  0.  0.  0.  0.  0.  0.  0.  0.  0.  0.  0.]\n",
      " [ 0.  0.  0.  0.  0.  1.  0.  0.  0.  0.  0.  0.  0.  0.  0.  0.]\n",
      " [ 0.  0.  0.  0.  0.  0.  1.  0.  0.  0.  0.  0.  0.  0.  0.  0.]\n",
      " [ 0.  0.  0.  0.  0.  0.  0.  1.  0.  0.  0.  0.  0.  0.  0.  0.]]\n"
     ]
    },
    {
     "name": "stderr",
     "output_type": "stream",
     "text": [
      "/home/richard-zhu/.local/lib/python2.7/site-packages/ipykernel_launcher.py:1: ComplexWarning: Casting complex values to real discards the imaginary part\n",
      "  \"\"\"Entry point for launching an IPython kernel.\n"
     ]
    }
   ],
   "source": [
    "print tensor_gates(dg_obj, defined_gates, 4).toarray().astype(np.float64)"
   ]
  },
  {
   "cell_type": "markdown",
   "metadata": {},
   "source": [
    "## Measurement"
   ]
  },
  {
   "cell_type": "code",
   "execution_count": 19,
   "metadata": {},
   "outputs": [
    {
     "data": {
      "text/plain": [
       "<pyquil.quil.Program at 0x7f391c1453d0>"
      ]
     },
     "execution_count": 19,
     "metadata": {},
     "output_type": "execute_result"
    }
   ],
   "source": [
    "p = Program().inst(H(0))\n",
    "p.measure(0, [0])"
   ]
  },
  {
   "cell_type": "code",
   "execution_count": 20,
   "metadata": {},
   "outputs": [
    {
     "name": "stdout",
     "output_type": "stream",
     "text": [
      "H 0\n",
      "MEASURE 0 [0]\n",
      "\n",
      "MEASURE\n",
      "None\n",
      "(<DirectQubit 0>, <Addr 0>)\n"
     ]
    }
   ],
   "source": [
    "measure_obj = p.actions[1][1]\n",
    "print p\n",
    "print measure_obj.operator_name\n",
    "print measure_obj.parameters\n",
    "print measure_obj.arguments"
   ]
  },
  {
   "cell_type": "code",
   "execution_count": 21,
   "metadata": {},
   "outputs": [
    {
     "name": "stdout",
     "output_type": "stream",
     "text": [
      "0\n",
      "0\n"
     ]
    }
   ],
   "source": [
    "print value(measure_obj.arguments[0])\n",
    "print value(measure_obj.arguments[1])"
   ]
  },
  {
   "cell_type": "code",
   "execution_count": 27,
   "metadata": {},
   "outputs": [],
   "source": [
    "p = Program().inst(H(0))\n",
    "p.measure(0, [0])\n",
    "p_obj = p.synthesize()"
   ]
  },
  {
   "cell_type": "code",
   "execution_count": 33,
   "metadata": {},
   "outputs": [
    {
     "name": "stdout",
     "output_type": "stream",
     "text": [
      "(<DirectQubit 0>, <Addr 0>)\n"
     ]
    }
   ],
   "source": [
    "print p_obj[1].arguments"
   ]
  },
  {
   "cell_type": "markdown",
   "metadata": {},
   "source": [
    "### Measurement tests"
   ]
  },
  {
   "cell_type": "code",
   "execution_count": 2,
   "metadata": {
    "collapsed": true
   },
   "outputs": [],
   "source": [
    "from qvm import measurement"
   ]
  },
  {
   "cell_type": "code",
   "execution_count": 3,
   "metadata": {},
   "outputs": [
    {
     "name": "stdout",
     "output_type": "stream",
     "text": [
      "[[ 0.70710678]\n",
      " [ 0.        ]\n",
      " [ 0.        ]\n",
      " [ 0.        ]\n",
      " [ 0.        ]\n",
      " [ 0.        ]\n",
      " [ 0.        ]\n",
      " [ 0.        ]\n",
      " [ 0.        ]\n",
      " [ 0.        ]\n",
      " [ 0.        ]\n",
      " [ 0.        ]\n",
      " [ 0.        ]\n",
      " [ 0.        ]\n",
      " [ 0.        ]\n",
      " [ 0.70710678]]\n"
     ]
    }
   ],
   "source": [
    "nq = 4\n",
    "wf = np.zeros(2 ** nq).reshape((-1, 1))\n",
    "wf[0] = 1 / np.sqrt(2)\n",
    "wf[-1] = 1 / np.sqrt(2)\n",
    "print wf"
   ]
  },
  {
   "cell_type": "code",
   "execution_count": 9,
   "metadata": {},
   "outputs": [
    {
     "data": {
      "text/plain": [
       "(1, <16x16 sparse matrix of type '<type 'numpy.complex128'>'\n",
       " \twith 8 stored elements in Compressed Sparse Row format>, array([[ 0.+0.j],\n",
       "        [ 0.+0.j],\n",
       "        [ 0.+0.j],\n",
       "        [ 0.+0.j],\n",
       "        [ 0.+0.j],\n",
       "        [ 0.+0.j],\n",
       "        [ 0.+0.j],\n",
       "        [ 0.+0.j],\n",
       "        [ 0.+0.j],\n",
       "        [ 0.+0.j],\n",
       "        [ 0.+0.j],\n",
       "        [ 0.+0.j],\n",
       "        [ 0.+0.j],\n",
       "        [ 0.+0.j],\n",
       "        [ 0.+0.j],\n",
       "        [ 1.+0.j]]))"
      ]
     },
     "execution_count": 9,
     "metadata": {},
     "output_type": "execute_result"
    }
   ],
   "source": [
    "measurement(wf, 0)"
   ]
  }
 ],
 "metadata": {
  "kernelspec": {
   "display_name": "Python 2",
   "language": "python",
   "name": "python2"
  },
  "language_info": {
   "codemirror_mode": {
    "name": "ipython",
    "version": 2
   },
   "file_extension": ".py",
   "mimetype": "text/x-python",
   "name": "python",
   "nbconvert_exporter": "python",
   "pygments_lexer": "ipython2",
   "version": "2.7.12"
  }
 },
 "nbformat": 4,
 "nbformat_minor": 2
}
