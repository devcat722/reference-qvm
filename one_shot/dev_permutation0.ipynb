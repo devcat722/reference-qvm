{
 "cells": [
  {
   "cell_type": "code",
   "execution_count": 12,
   "metadata": {},
   "outputs": [
    {
     "name": "stdout",
     "output_type": "stream",
     "text": [
      "[0 1]\n",
      "[0]\n"
     ]
    }
   ],
   "source": [
    "final_map = np.array([2, 0, 1])\n",
    "print final_map[-2:]\n",
    "print final_map[-2 +0: -1]"
   ]
  },
  {
   "cell_type": "code",
   "execution_count": 13,
   "metadata": {},
   "outputs": [
    {
     "name": "stdout",
     "output_type": "stream",
     "text": [
      "[0 2]\n",
      "[2 1]\n"
     ]
    }
   ],
   "source": [
    "inds = np.array([0, 2])\n",
    "\n",
    "# First, sort the list and find the median.\n",
    "sort_i = np.argsort(inds)\n",
    "sorted_inds = inds[sort_i]\n",
    "med_i = int(len(sort_i) / 2)\n",
    "med = sorted_inds[med_i]\n",
    "\n",
    "# The starting position of all specified Hilbert spaces begins at \n",
    "# the qubit at (median - med_i)\n",
    "start = med - med_i\n",
    "# Array of final indices the arguments are mapped to, from \n",
    "# high index to low index, left to right ordering\n",
    "final_map = np.arange(start, start + len(inds))[::-1]\n",
    "start_i = final_map[-1]\n",
    "\n",
    "print inds\n",
    "print final_map"
   ]
  },
  {
   "cell_type": "code",
   "execution_count": 14,
   "metadata": {
    "collapsed": true
   },
   "outputs": [],
   "source": [
    "num_qubits = 3\n",
    "qubit_arr = np.arange(num_qubits)  # current qubit indexing"
   ]
  },
  {
   "cell_type": "code",
   "execution_count": 15,
   "metadata": {
    "scrolled": false
   },
   "outputs": [
    {
     "name": "stdout",
     "output_type": "stream",
     "text": [
      "[1 2]\n",
      "[2 1]\n",
      "[2 1 0]\n",
      "1\n",
      "[1 2 0]\n",
      "[1 2 0]\n",
      "[1 2 0]\n",
      "[[ 1.+0.j  0.+0.j  0.+0.j  0.+0.j  0.+0.j  0.+0.j  0.+0.j  0.+0.j]\n",
      " [ 0.+0.j  1.+0.j  0.+0.j  0.+0.j  0.+0.j  0.+0.j  0.+0.j  0.+0.j]\n",
      " [ 0.+0.j  0.+0.j  0.+0.j  0.+0.j  1.+0.j  0.+0.j  0.+0.j  0.+0.j]\n",
      " [ 0.+0.j  0.+0.j  0.+0.j  0.+0.j  0.+0.j  1.+0.j  0.+0.j  0.+0.j]\n",
      " [ 0.+0.j  0.+0.j  1.+0.j  0.+0.j  0.+0.j  0.+0.j  0.+0.j  0.+0.j]\n",
      " [ 0.+0.j  0.+0.j  0.+0.j  1.+0.j  0.+0.j  0.+0.j  0.+0.j  0.+0.j]\n",
      " [ 0.+0.j  0.+0.j  0.+0.j  0.+0.j  0.+0.j  0.+0.j  1.+0.j  0.+0.j]\n",
      " [ 0.+0.j  0.+0.j  0.+0.j  0.+0.j  0.+0.j  0.+0.j  0.+0.j  1.+0.j]]\n"
     ]
    }
   ],
   "source": [
    "print permutation_arbitrary((1, 2), 3)[0].toarray()"
   ]
  },
  {
   "cell_type": "code",
   "execution_count": 16,
   "metadata": {},
   "outputs": [
    {
     "data": {
      "text/plain": [
       "array([1])"
      ]
     },
     "execution_count": 16,
     "metadata": {},
     "output_type": "execute_result"
    }
   ],
   "source": [
    "x = np.array([2, 1])\n",
    "x[1:3]"
   ]
  },
  {
   "cell_type": "code",
   "execution_count": 17,
   "metadata": {
    "scrolled": false
   },
   "outputs": [
    {
     "name": "stdout",
     "output_type": "stream",
     "text": [
      "[0 2]\n",
      "[2 1]\n",
      "[2 1 0]\n",
      "1\n",
      "[1 2 0]\n",
      "0\n",
      "1\n",
      "[0 1 2]\n",
      "1\n",
      "[1 0 2]\n"
     ]
    },
    {
     "ename": "AssertionError",
     "evalue": "",
     "output_type": "error",
     "traceback": [
      "\u001b[0;31m---------------------------------------------------------------------------\u001b[0m",
      "\u001b[0;31mAssertionError\u001b[0m                            Traceback (most recent call last)",
      "\u001b[0;32m<ipython-input-17-d763d3e93976>\u001b[0m in \u001b[0;36m<module>\u001b[0;34m()\u001b[0m\n\u001b[0;32m----> 1\u001b[0;31m \u001b[0;32mprint\u001b[0m \u001b[0mapply_gate\u001b[0m\u001b[0;34m(\u001b[0m\u001b[0mgate_matrix\u001b[0m\u001b[0;34m[\u001b[0m\u001b[0;34m'SWAP'\u001b[0m\u001b[0;34m]\u001b[0m\u001b[0;34m,\u001b[0m \u001b[0;34m(\u001b[0m\u001b[0;36m0\u001b[0m\u001b[0;34m,\u001b[0m \u001b[0;36m2\u001b[0m\u001b[0;34m)\u001b[0m\u001b[0;34m,\u001b[0m \u001b[0;36m3\u001b[0m\u001b[0;34m)\u001b[0m\u001b[0;34m.\u001b[0m\u001b[0mtoarray\u001b[0m\u001b[0;34m(\u001b[0m\u001b[0;34m)\u001b[0m\u001b[0;34m\u001b[0m\u001b[0m\n\u001b[0m",
      "\u001b[0;32m/home/richard-zhu/rigetti/new-rqvm/unitary_generator.py\u001b[0m in \u001b[0;36mapply_gate\u001b[0;34m(matrix, args, num_qubits)\u001b[0m\n\u001b[1;32m    367\u001b[0m         \u001b[0;31m# use local SWAPs\u001b[0m\u001b[0;34m\u001b[0m\u001b[0;34m\u001b[0m\u001b[0m\n\u001b[1;32m    368\u001b[0m         \u001b[0mpi_permutation_matrix\u001b[0m\u001b[0;34m,\u001b[0m \u001b[0mfinal_map\u001b[0m\u001b[0;34m,\u001b[0m \u001b[0mstart_i\u001b[0m \u001b[0;34m=\u001b[0m\u001b[0;31m \u001b[0m\u001b[0;31m\\\u001b[0m\u001b[0;34m\u001b[0m\u001b[0m\n\u001b[0;32m--> 369\u001b[0;31m                                     \u001b[0mpermutation_arbitrary\u001b[0m\u001b[0;34m(\u001b[0m\u001b[0margs\u001b[0m\u001b[0;34m,\u001b[0m \u001b[0mnum_qubits\u001b[0m\u001b[0;34m)\u001b[0m\u001b[0;34m\u001b[0m\u001b[0m\n\u001b[0m\u001b[1;32m    370\u001b[0m     \u001b[0;32melse\u001b[0m\u001b[0;34m:\u001b[0m\u001b[0;34m\u001b[0m\u001b[0m\n\u001b[1;32m    371\u001b[0m         \u001b[0;31m# assume fully-connected, arbitrary SWAPs allowed\u001b[0m\u001b[0;34m\u001b[0m\u001b[0;34m\u001b[0m\u001b[0m\n",
      "\u001b[0;32m/home/richard-zhu/rigetti/new-rqvm/unitary_generator.py\u001b[0m in \u001b[0;36mpermutation_arbitrary\u001b[0;34m(args, num_qubits)\u001b[0m\n\u001b[1;32m    317\u001b[0m     \u001b[0;32mprint\u001b[0m \u001b[0mqubit_arr\u001b[0m\u001b[0;34m[\u001b[0m\u001b[0;34m:\u001b[0m\u001b[0;34m:\u001b[0m\u001b[0;34m-\u001b[0m\u001b[0;36m1\u001b[0m\u001b[0;34m]\u001b[0m\u001b[0;34m\u001b[0m\u001b[0m\n\u001b[1;32m    318\u001b[0m \u001b[0;34m\u001b[0m\u001b[0m\n\u001b[0;32m--> 319\u001b[0;31m     \u001b[0;32massert\u001b[0m \u001b[0mnp\u001b[0m\u001b[0;34m.\u001b[0m\u001b[0mallclose\u001b[0m\u001b[0;34m(\u001b[0m\u001b[0mqubit_arr\u001b[0m\u001b[0;34m[\u001b[0m\u001b[0mfinal_map\u001b[0m\u001b[0;34m[\u001b[0m\u001b[0;34m-\u001b[0m\u001b[0;36m1\u001b[0m\u001b[0;34m]\u001b[0m\u001b[0;34m:\u001b[0m\u001b[0mfinal_map\u001b[0m\u001b[0;34m[\u001b[0m\u001b[0;36m0\u001b[0m\u001b[0;34m]\u001b[0m \u001b[0;34m+\u001b[0m \u001b[0;36m1\u001b[0m\u001b[0;34m]\u001b[0m\u001b[0;34m[\u001b[0m\u001b[0;34m:\u001b[0m\u001b[0;34m:\u001b[0m\u001b[0;34m-\u001b[0m\u001b[0;36m1\u001b[0m\u001b[0;34m]\u001b[0m\u001b[0;34m,\u001b[0m \u001b[0minds\u001b[0m\u001b[0;34m)\u001b[0m\u001b[0;34m\u001b[0m\u001b[0m\n\u001b[0m\u001b[1;32m    320\u001b[0m \u001b[0;34m\u001b[0m\u001b[0m\n\u001b[1;32m    321\u001b[0m     \u001b[0;32mreturn\u001b[0m \u001b[0;34m(\u001b[0m\u001b[0mperm\u001b[0m\u001b[0;34m,\u001b[0m \u001b[0mqubit_arr\u001b[0m\u001b[0;34m[\u001b[0m\u001b[0;34m:\u001b[0m\u001b[0;34m:\u001b[0m\u001b[0;34m-\u001b[0m\u001b[0;36m1\u001b[0m\u001b[0;34m]\u001b[0m\u001b[0;34m,\u001b[0m \u001b[0mstart_i\u001b[0m\u001b[0;34m)\u001b[0m\u001b[0;34m\u001b[0m\u001b[0m\n",
      "\u001b[0;31mAssertionError\u001b[0m: "
     ]
    }
   ],
   "source": [
    "print apply_gate(gate_matrix['SWAP'], (0, 2), 3).toarray()"
   ]
  },
  {
   "cell_type": "code",
   "execution_count": 12,
   "metadata": {},
   "outputs": [
    {
     "name": "stdout",
     "output_type": "stream",
     "text": [
      "[9 8 7 6 5 4 3 2 1 0]\n",
      "[2]\n"
     ]
    }
   ],
   "source": [
    "final_map = np.arange(10)[::-1]\n",
    "print final_map\n",
    "print final_map[- 1 - 2: -2]"
   ]
  },
  {
   "cell_type": "code",
   "execution_count": 14,
   "metadata": {},
   "outputs": [
    {
     "name": "stdout",
     "output_type": "stream",
     "text": [
      "<class 'pyquil.quilbase.Instr'>\n",
      "False\n",
      "True\n"
     ]
    }
   ],
   "source": [
    "pq_gate = p.actions[4][1]\n",
    "print type(pq_gate)\n",
    "print isinstance(pq_gate, Gate)\n",
    "print isinstance(pq_gate, Instr)"
   ]
  },
  {
   "cell_type": "code",
   "execution_count": 15,
   "metadata": {},
   "outputs": [
    {
     "name": "stdout",
     "output_type": "stream",
     "text": [
      "True\n"
     ]
    }
   ],
   "source": [
    "b = not 0\n",
    "print b"
   ]
  },
  {
   "cell_type": "code",
   "execution_count": 77,
   "metadata": {},
   "outputs": [
    {
     "name": "stdout",
     "output_type": "stream",
     "text": [
      "Help on Program in module pyquil.quil object:\n",
      "\n",
      "class Program(pyquil.quilbase.InstructionGroup)\n",
      " |  Method resolution order:\n",
      " |      Program\n",
      " |      pyquil.quilbase.InstructionGroup\n",
      " |      pyquil.quilbase.QuilAction\n",
      " |      __builtin__.object\n",
      " |  \n",
      " |  Methods defined here:\n",
      " |  \n",
      " |  __add__(self, other)\n",
      " |      Concatenate two programs together, returning a new one.\n",
      " |      \n",
      " |      :param Program other: Another program or instruction to concatenate to this one.\n",
      " |      :return: A newly concatenated program.\n",
      " |      :rtype: Program\n",
      " |  \n",
      " |  __getitem__(self, index)\n",
      " |      Allows indexing into the program to get an action.\n",
      " |      :param index: The action at the specified index.\n",
      " |      :return:\n",
      " |  \n",
      " |  __init__(self, *instructions)\n",
      " |  \n",
      " |  __iter__(self)\n",
      " |      Allow built in iteration through a program's actions, e.g. [a for a in Program(X(0))]\n",
      " |      :return:\n",
      " |  \n",
      " |  defgate(self, name, matrix)\n",
      " |      Define a new static gate.\n",
      " |      \n",
      " |      :param string name: The name of the gate.\n",
      " |      :param array-like matrix: List of lists or Numpy 2d array.\n",
      " |      :return: The Program instance.\n",
      " |      :rtype: Program\n",
      " |  \n",
      " |  get_qubits(self)\n",
      " |      :return: a set of all the qubit indices allocated in this program, synthesizing freely\n",
      " |      allocated qubits if neccessary.\n",
      " |      :rtype: set\n",
      " |  \n",
      " |  if_then(self, classical_reg, if_program, else_program=None)\n",
      " |      If the classical register at index classical reg is 1, run if_program, else run\n",
      " |      else_program.\n",
      " |      \n",
      " |      :param int classical_reg: The classical register to check as the condition\n",
      " |      :param Program if_program: A Quil program to execute if classical_reg is 1\n",
      " |      :param Program else_program: A Quil program to execute if classical_reg is 0. This\n",
      " |          argument is optional and defaults to an empty Program.\n",
      " |      :returns: The Quil Program with the branching instructions added.\n",
      " |      :rtype: Program\n",
      " |  \n",
      " |  measure(self, qubit_index, classical_reg)\n",
      " |      Measures a qubit at qubit_index and puts the result in classical_reg\n",
      " |      \n",
      " |      :param int qubit_index: The address of the qubit to measure.\n",
      " |      :param int classical_reg: The address of the classical bit to store the result.\n",
      " |      :returns: The Quil Program with the appropriate measure instruction appended, e.g.\n",
      " |                MEASURE 0 [1]\n",
      " |      :rtype: Program\n",
      " |  \n",
      " |  measure_all(self, *qubit_reg_pairs)\n",
      " |      Measures many qubits into their specified classical bits, in the order\n",
      " |      they were entered.\n",
      " |      \n",
      " |      :param Tuple qubit_reg_pairs: Tuples of qubit indices paired with classical bits.\n",
      " |      :return: The Quil Program with the appropriate measure instructions appended, e.g.\n",
      " |                MEASURE 0 [1]\n",
      " |                MEASURE 1 [2]\n",
      " |                MEASURE 2 [3]\n",
      " |      :rtype: Program\n",
      " |  \n",
      " |  out(self)\n",
      " |      Converts the Quil program to a readable string.\n",
      " |      \n",
      " |      :return: String form of a program\n",
      " |      :rtype: string\n",
      " |  \n",
      " |  synthesize(self, resource_manager=None)\n",
      " |  \n",
      " |  while_do(self, classical_reg, q_program)\n",
      " |      While a classical register at index classical_reg is 1, loop q_program\n",
      " |      \n",
      " |      :param int classical_reg: The classical register to check\n",
      " |      :param Program q_program: The Quil program to loop.\n",
      " |      :return: The Quil Program with the loop instructions added.\n",
      " |      :rtype: Program\n",
      " |  \n",
      " |  ----------------------------------------------------------------------\n",
      " |  Methods inherited from pyquil.quilbase.InstructionGroup:\n",
      " |  \n",
      " |  __str__(self)\n",
      " |  \n",
      " |  alloc(self)\n",
      " |      Get a new qubit.\n",
      " |      \n",
      " |      :return: A qubit.\n",
      " |      :rtype: Qubit\n",
      " |  \n",
      " |  extract_qubits(self)\n",
      " |      Return all qubit addresses involved in the instruction group.\n",
      " |      :return: Set of qubits.\n",
      " |      :rtype: set\n",
      " |  \n",
      " |  free(self, qubit)\n",
      " |      Free a qubit.\n",
      " |      \n",
      " |      :param AbstractQubit q: An AbstractQubit instance.\n",
      " |  \n",
      " |  inst(self, *instructions)\n",
      " |      Mutates the Program object by appending new instructions.\n",
      " |      \n",
      " |      :param instructions: A list of Instruction objects, e.g. Gates\n",
      " |      :return: self\n",
      " |  \n",
      " |  pop(self)\n",
      " |      Pops off the last instruction.\n",
      " |      \n",
      " |      :return: The (action, instruction) pair for the instruction that was popped.\n",
      " |      :rtype: tuple\n",
      " |  \n",
      " |  ----------------------------------------------------------------------\n",
      " |  Data descriptors inherited from pyquil.quilbase.QuilAction:\n",
      " |  \n",
      " |  __dict__\n",
      " |      dictionary for instance variables (if defined)\n",
      " |  \n",
      " |  __weakref__\n",
      " |      list of weak references to the object (if defined)\n",
      "\n"
     ]
    }
   ],
   "source": [
    "help(p)"
   ]
  },
  {
   "cell_type": "code",
   "execution_count": 76,
   "metadata": {},
   "outputs": [
    {
     "name": "stdout",
     "output_type": "stream",
     "text": [
      "HAD\n",
      "[[ 0.70710678  0.70710678]\n",
      " [ 0.70710678 -0.70710678]]\n",
      "1\n"
     ]
    }
   ],
   "source": [
    "print p.defined_gates[0].name\n",
    "print p.defined_gates[0].matrix\n",
    "print p.defined_gates[0].num_args()"
   ]
  },
  {
   "cell_type": "code",
   "execution_count": 64,
   "metadata": {},
   "outputs": [
    {
     "name": "stdout",
     "output_type": "stream",
     "text": [
      "(0, <Gate: H 0>)\n",
      "(0, <Gate: H 1>)\n",
      "(0, <Gate: H 2>)\n",
      "(0, <Gate: H 5>)\n",
      "(0, <pyquil.quilbase.Instr object at 0x7f84ed1f8050>)\n",
      "Help on Instr in module pyquil.quilbase object:\n",
      "\n",
      "class Instr(AbstractInstruction)\n",
      " |  Representation of an instruction represented by an operator, parameters, and arguments.\n",
      " |  \n",
      " |  Method resolution order:\n",
      " |      Instr\n",
      " |      AbstractInstruction\n",
      " |      QuilAction\n",
      " |      __builtin__.object\n",
      " |  \n",
      " |  Methods defined here:\n",
      " |  \n",
      " |  __eq__(self, other)\n",
      " |  \n",
      " |  __hash__(self)\n",
      " |  \n",
      " |  __init__(self, op, params, args)\n",
      " |  \n",
      " |  __str__(self)\n",
      " |  \n",
      " |  make_qubits_known(self, rm)\n",
      " |      Make the qubits involved with this instruction known to a ResourceManager.\n",
      " |      \n",
      " |      :param ResourceManager rm: A ResourceManager object.\n",
      " |  \n",
      " |  out(self)\n",
      " |  \n",
      " |  qubits(self)\n",
      " |      The qubits this instruction affects.\n",
      " |      \n",
      " |      :return: Set of qubit indexes.\n",
      " |      :rtype: set\n",
      " |  \n",
      " |  synthesize(self, resource_manager=None)\n",
      " |  \n",
      " |  ----------------------------------------------------------------------\n",
      " |  Data descriptors inherited from QuilAction:\n",
      " |  \n",
      " |  __dict__\n",
      " |      dictionary for instance variables (if defined)\n",
      " |  \n",
      " |  __weakref__\n",
      " |      list of weak references to the object (if defined)\n",
      "\n"
     ]
    }
   ],
   "source": [
    "for index, gate_obj in enumerate(p.actions):\n",
    "    print gate_obj\n",
    "    \n",
    "help(p.actions[4][1])"
   ]
  },
  {
   "cell_type": "code",
   "execution_count": 52,
   "metadata": {},
   "outputs": [
    {
     "data": {
      "text/plain": [
       "[0]"
      ]
     },
     "execution_count": 52,
     "metadata": {},
     "output_type": "execute_result"
    }
   ],
   "source": [
    "map(lambda x: x._index, p.actions[0][1].arguments)"
   ]
  },
  {
   "cell_type": "code",
   "execution_count": 59,
   "metadata": {},
   "outputs": [
    {
     "name": "stdout",
     "output_type": "stream",
     "text": [
      "HAD\n",
      "[]\n",
      "[2]\n"
     ]
    }
   ],
   "source": [
    "print p.actions[4][1].operator_name\n",
    "print p.actions[4][1].parameters\n",
    "print p.actions[4][1].arguments"
   ]
  },
  {
   "cell_type": "code",
   "execution_count": 53,
   "metadata": {},
   "outputs": [
    {
     "name": "stdout",
     "output_type": "stream",
     "text": [
      "HAD\n",
      "[[ 0.70710678  0.70710678]\n",
      " [ 0.70710678 -0.70710678]]\n"
     ]
    }
   ],
   "source": [
    "print p.defined_gates[0].name\n",
    "print p.defined_gates[0].matrix"
   ]
  },
  {
   "cell_type": "code",
   "execution_count": 56,
   "metadata": {},
   "outputs": [
    {
     "data": {
      "text/plain": [
       "'HAD'"
      ]
     },
     "execution_count": 56,
     "metadata": {},
     "output_type": "execute_result"
    }
   ],
   "source": [
    "p.defined_gates[0].name"
   ]
  },
  {
   "cell_type": "code",
   "execution_count": null,
   "metadata": {
    "collapsed": true
   },
   "outputs": [],
   "source": []
  },
  {
   "cell_type": "code",
   "execution_count": 88,
   "metadata": {},
   "outputs": [
    {
     "data": {
      "text/plain": [
       "<pyquil.quil.Program at 0x7f62c9356d50>"
      ]
     },
     "execution_count": 88,
     "metadata": {},
     "output_type": "execute_result"
    }
   ],
   "source": [
    "p = Program()\n",
    "p.inst(\"AND 0 0 0\")"
   ]
  },
  {
   "cell_type": "code",
   "execution_count": 78,
   "metadata": {},
   "outputs": [
    {
     "name": "stdout",
     "output_type": "stream",
     "text": [
      "AND 0 0 0\n"
     ]
    }
   ],
   "source": [
    "max_index = 0\n",
    "for instruction_index, gate in p.actions:\n",
    "    print gate"
   ]
  },
  {
   "cell_type": "code",
   "execution_count": 74,
   "metadata": {},
   "outputs": [
    {
     "ename": "AttributeError",
     "evalue": "'RawInstr' object has no attribute 'arguments'",
     "output_type": "error",
     "traceback": [
      "\u001b[0;31m---------------------------------------------------------------------------\u001b[0m",
      "\u001b[0;31mAttributeError\u001b[0m                            Traceback (most recent call last)",
      "\u001b[0;32m<ipython-input-74-6fdb188a4184>\u001b[0m in \u001b[0;36m<module>\u001b[0;34m()\u001b[0m\n\u001b[1;32m      2\u001b[0m \u001b[0;32mfor\u001b[0m \u001b[0minstruction_index\u001b[0m\u001b[0;34m,\u001b[0m \u001b[0mgate\u001b[0m \u001b[0;32min\u001b[0m \u001b[0mp\u001b[0m\u001b[0;34m.\u001b[0m\u001b[0mactions\u001b[0m\u001b[0;34m:\u001b[0m\u001b[0;34m\u001b[0m\u001b[0m\n\u001b[1;32m      3\u001b[0m     \u001b[0;32mif\u001b[0m \u001b[0;32mnot\u001b[0m \u001b[0misinstance\u001b[0m\u001b[0;34m(\u001b[0m\u001b[0mgate\u001b[0m\u001b[0;34m,\u001b[0m \u001b[0mMeasurement\u001b[0m\u001b[0;34m)\u001b[0m\u001b[0;34m:\u001b[0m\u001b[0;34m\u001b[0m\u001b[0m\n\u001b[0;32m----> 4\u001b[0;31m         \u001b[0;32mif\u001b[0m \u001b[0mmax\u001b[0m\u001b[0;34m(\u001b[0m\u001b[0mmap\u001b[0m\u001b[0;34m(\u001b[0m\u001b[0;32mlambda\u001b[0m \u001b[0mx\u001b[0m\u001b[0;34m:\u001b[0m \u001b[0mx\u001b[0m\u001b[0;34m.\u001b[0m\u001b[0m_index\u001b[0m\u001b[0;34m,\u001b[0m \u001b[0mgate\u001b[0m\u001b[0;34m.\u001b[0m\u001b[0marguments\u001b[0m\u001b[0;34m)\u001b[0m\u001b[0;34m)\u001b[0m \u001b[0;34m>\u001b[0m \u001b[0mmax_index\u001b[0m\u001b[0;34m:\u001b[0m\u001b[0;34m\u001b[0m\u001b[0m\n\u001b[0m\u001b[1;32m      5\u001b[0m             \u001b[0mmax_index\u001b[0m \u001b[0;34m=\u001b[0m \u001b[0mmax\u001b[0m\u001b[0;34m(\u001b[0m\u001b[0mmap\u001b[0m\u001b[0;34m(\u001b[0m\u001b[0;32mlambda\u001b[0m \u001b[0mx\u001b[0m\u001b[0;34m:\u001b[0m \u001b[0mx\u001b[0m\u001b[0;34m.\u001b[0m\u001b[0m_index\u001b[0m\u001b[0;34m,\u001b[0m \u001b[0mgate\u001b[0m\u001b[0;34m.\u001b[0m\u001b[0marguments\u001b[0m\u001b[0;34m)\u001b[0m\u001b[0;34m)\u001b[0m\u001b[0;34m\u001b[0m\u001b[0m\n",
      "\u001b[0;31mAttributeError\u001b[0m: 'RawInstr' object has no attribute 'arguments'"
     ]
    }
   ],
   "source": [
    "max_index = 0\n",
    "for instruction_index, gate in p.actions:\n",
    "    if not isinstance(gate, Measurement):\n",
    "        if max(map(lambda x: x._index, gate.arguments)) > max_index:\n",
    "            max_index = max(map(lambda x: x._index, gate.arguments))"
   ]
  },
  {
   "cell_type": "code",
   "execution_count": null,
   "metadata": {
    "collapsed": true
   },
   "outputs": [],
   "source": [
    "max_index = 0\n",
    "for instruction_index, gate in program.actions:\n",
    "    if not isinstance(gate, Measurement):\n",
    "        if max(map(lambda x: x._index, gate.arguments)) > max_index:\n",
    "            max_index = max(map(lambda x: x._index, gate.arguments))\n",
    "return max_index + 1"
   ]
  },
  {
   "cell_type": "code",
   "execution_count": 45,
   "metadata": {},
   "outputs": [
    {
     "name": "stdout",
     "output_type": "stream",
     "text": [
      "<class 'pyquil.quilbase.Instr'>\n",
      "<class 'pyquil.quilbase.Gate'>\n",
      "<class 'pyquil.quilbase.Measurement'>\n",
      "<class 'pyquil.quilbase.Wait'>\n"
     ]
    }
   ],
   "source": []
  },
  {
   "cell_type": "code",
   "execution_count": 18,
   "metadata": {},
   "outputs": [
    {
     "name": "stdout",
     "output_type": "stream",
     "text": [
      "hi\n",
      "hi\n",
      "hi\n",
      "hi\n",
      "hi\n",
      "hi\n",
      "hi\n",
      "hi\n",
      "hi\n",
      "hi\n",
      "hi\n",
      "hi\n",
      "hi\n",
      "hi\n",
      "hi\n",
      "hi\n",
      "hi\n",
      "hi\n",
      "hi\n",
      "hi\n",
      "hi\n",
      "hi\n",
      "hi\n",
      "hi\n",
      "hi\n",
      "hi\n",
      "hi\n",
      "hi\n",
      "hi\n",
      "hi\n",
      "hi\n",
      "hi\n",
      "hi\n",
      "hi\n",
      "hi\n",
      "hi\n",
      "hi\n",
      "hi\n",
      "hi\n",
      "hi\n",
      "hi\n",
      "hi\n",
      "hi\n",
      "hi\n",
      "hi\n",
      "hi\n",
      "hi\n",
      "hi\n",
      "hi\n",
      "hi\n",
      "hi\n",
      "hi\n",
      "hi\n",
      "hi\n",
      "hi\n",
      "hi\n",
      "hi\n",
      "hi\n",
      "hi\n",
      "hi\n",
      "hi\n",
      "hi\n",
      "hi\n",
      "hi\n",
      "hi\n",
      "hi\n",
      "hi\n",
      "hi\n",
      "hi\n",
      "hi\n",
      "hi\n",
      "hi\n",
      "hi\n",
      "hi\n",
      "hi\n",
      "hi\n",
      "hi\n",
      "hi\n",
      "hi\n",
      "hi\n",
      "hi\n",
      "hi\n",
      "hi\n",
      "hi\n",
      "hi\n",
      "hi\n",
      "hi\n",
      "hi\n",
      "hi\n",
      "hi\n",
      "hi\n",
      "hi\n",
      "hi\n",
      "hi\n",
      "hi\n",
      "hi\n",
      "hi\n",
      "hi\n",
      "hi\n",
      "hi\n",
      "hi\n",
      "hi\n",
      "hi\n",
      "hi\n",
      "hi\n",
      "hi\n",
      "hi\n",
      "hi\n",
      "hi\n",
      "hi\n",
      "hi\n",
      "hi\n",
      "hi\n",
      "hi\n",
      "hi\n",
      "hi\n",
      "hi\n",
      "hi\n",
      "hi\n",
      "hi\n",
      "hi\n",
      "hi\n",
      "hi\n",
      "hi\n",
      "hi\n",
      "hi\n",
      "hi\n",
      "hi\n",
      "hi\n",
      "hi\n",
      "hi\n",
      "hi\n",
      "hi\n",
      "hi\n",
      "hi\n",
      "hi\n",
      "hi\n",
      "hi\n",
      "hi\n",
      "hi\n",
      "hi\n",
      "hi\n",
      "hi\n",
      "hi\n",
      "hi\n",
      "hi\n",
      "hi\n",
      "hi\n",
      "hi\n",
      "hi\n",
      "hi\n",
      "hi\n",
      "hi\n",
      "hi\n",
      "hi\n",
      "hi\n",
      "hi\n",
      "hi\n",
      "hi\n",
      "hi\n",
      "hi\n",
      "hi\n",
      "hi\n",
      "hi\n",
      "hi\n",
      "hi\n",
      "hi\n",
      "hi\n",
      "hi\n",
      "hi\n",
      "hi\n",
      "hi\n",
      "hi\n",
      "hi\n",
      "hi\n",
      "hi\n",
      "hi\n",
      "hi\n",
      "hi\n",
      "hi\n",
      "hi\n",
      "hi\n",
      "hi\n",
      "hi\n",
      "hi\n",
      "hi\n",
      "hi\n",
      "hi\n",
      "hi\n",
      "hi\n",
      "hi\n",
      "hi\n",
      "hi\n",
      "hi\n",
      "hi\n",
      "hi\n",
      "hi\n",
      "hi\n",
      "hi\n",
      "hi\n",
      "hi\n",
      "hi\n",
      "hi\n",
      "hi\n",
      "hi\n",
      "hi\n",
      "hi\n",
      "hi\n",
      "hi\n",
      "hi\n",
      "hi\n",
      "hi\n",
      "hi\n",
      "hi\n",
      "hi\n",
      "hi\n",
      "hi\n",
      "hi\n",
      "hi\n",
      "hi\n",
      "hi\n",
      "hi\n",
      "hi\n",
      "hi\n",
      "hi\n",
      "hi\n",
      "hi\n",
      "hi\n",
      "hi\n",
      "hi\n",
      "hi\n",
      "hi\n",
      "hi\n",
      "hi\n",
      "hi\n",
      "hi\n",
      "hi\n",
      "hi\n",
      "hi\n",
      "hi\n",
      "hi\n",
      "hi\n",
      "hi\n",
      "hi\n",
      "hi\n",
      "hi\n",
      "hi\n",
      "hi\n",
      "hi\n",
      "hi\n",
      "hi\n",
      "hi\n",
      "hi\n",
      "hi\n",
      "hi\n",
      "hi\n",
      "hi\n",
      "hi\n",
      "hi\n",
      "hi\n",
      "hi\n",
      "hi\n",
      "hi\n",
      "hi\n",
      "hi\n",
      "hi\n",
      "hi\n",
      "hi\n",
      "hi\n",
      "hi\n",
      "hi\n",
      "hi\n",
      "hi\n",
      "hi\n",
      "hi\n",
      "hi\n",
      "hi\n",
      "hi\n",
      "hi\n",
      "hi\n",
      "hi\n",
      "hi\n",
      "hi\n",
      "hi\n",
      "hi\n",
      "hi\n",
      "hi\n",
      "hi\n",
      "hi\n",
      "hi\n",
      "hi\n",
      "hi\n",
      "hi\n",
      "hi\n",
      "hi\n",
      "hi\n",
      "hi\n",
      "hi\n",
      "hi\n",
      "hi\n",
      "hi\n",
      "hi\n",
      "hi\n",
      "hi\n"
     ]
    }
   ],
   "source": [
    "from pyquil.quilbase import Measurement\n",
    "for instruction_index, gate in delocalized_fermions.actions:\n",
    "    if not isinstance(gate, Measurement):\n",
    "        print(\"hi\")"
   ]
  },
  {
   "cell_type": "code",
   "execution_count": null,
   "metadata": {
    "collapsed": true
   },
   "outputs": [],
   "source": [
    "\n",
    "\n",
    "# the resulting state should have delocalized fermions\n",
    "# psi = \\sum_{i \\in [1, 4], j \\in [5, 8]}a_{i}^{\\dagger}a_{j}^{\\dagger}|0\\rangle\n",
    "\n",
    "# example execution with referenceqvm\n",
    "from referenceqvm.reference import Connection\n",
    "from pyquil.wavefunction import Wavefunction\n",
    "rqvm = Connection(type='wavefunction')\n",
    "wf, _ = rqvm.wavefunction(delocalized_fermions)\n",
    "wf = Wavefunction(wf)\n",
    "print wf"
   ]
  },
  {
   "cell_type": "markdown",
   "metadata": {},
   "source": [
    "## Are matrices truly sparse?"
   ]
  },
  {
   "cell_type": "code",
   "execution_count": 1,
   "metadata": {
    "collapsed": true
   },
   "outputs": [],
   "source": [
    "import numpy as np\n",
    "import scipy.sparse as sps\n",
    "from unitary_generator import *\n",
    "from gates import gate_matrix, utility_gates"
   ]
  },
  {
   "cell_type": "code",
   "execution_count": 2,
   "metadata": {},
   "outputs": [
    {
     "data": {
      "text/plain": [
       "<1024x1024 sparse matrix of type '<type 'numpy.complex128'>'\n",
       "\twith 3056 stored elements (3 diagonals) in DIAgonal format>"
      ]
     },
     "execution_count": 2,
     "metadata": {},
     "output_type": "execute_result"
    }
   ],
   "source": [
    "lifted_gate(3, gate_matrix['H'], 10).todia()"
   ]
  },
  {
   "cell_type": "markdown",
   "metadata": {},
   "source": [
    "## Unitary Generator - Storage Requirements"
   ]
  },
  {
   "cell_type": "code",
   "execution_count": 6,
   "metadata": {},
   "outputs": [
    {
     "name": "stdout",
     "output_type": "stream",
     "text": [
      "Nq = 20, number of MB: 16\n"
     ]
    }
   ],
   "source": [
    "Nq = 20\n",
    "Hs = 2 ** Nq\n",
    "Ps = 20\n",
    "wf = np.ones((Hs, 1)).astype(np.complex128)\n",
    "print(\"Nq = {}, number of MB: {}\".format(Nq, wf.nbytes / (1024 ** 2)))"
   ]
  },
  {
   "cell_type": "code",
   "execution_count": 14,
   "metadata": {},
   "outputs": [
    {
     "data": {
      "text/plain": [
       "False"
      ]
     },
     "execution_count": 14,
     "metadata": {},
     "output_type": "execute_result"
    }
   ],
   "source": [
    "gate_matrix['X'].shape[0] is not gate_matrix['X'].shape[1]"
   ]
  },
  {
   "cell_type": "code",
   "execution_count": 21,
   "metadata": {},
   "outputs": [
    {
     "name": "stdout",
     "output_type": "stream",
     "text": [
      "Sparse storage takes: 0 MB\n",
      "Dense storage takes: 16 MB\n"
     ]
    }
   ],
   "source": [
    "matrix = lifted_gate(0, gate_matrix['X'], 10)\n",
    "\n",
    "instructions = sps.dia_matrix(matrix).astype(np.complex128)\n",
    "a = instructions\n",
    "size = (a.data.nbytes + a.offsets.nbytes) / (1024 ** 2)\n",
    "print(\"Sparse storage takes: {} MB\" .format(size))\n",
    "\n",
    "instructions = matrix.toarray()\n",
    "a = instructions\n",
    "size = (a.nbytes) / (1024 ** 2)\n",
    "print(\"Dense storage takes: {} MB\" .format(size))"
   ]
  },
  {
   "cell_type": "markdown",
   "metadata": {},
   "source": [
    "## Unitary Gen - local SWAPs?"
   ]
  },
  {
   "cell_type": "code",
   "execution_count": 7,
   "metadata": {},
   "outputs": [
    {
     "name": "stdout",
     "output_type": "stream",
     "text": [
      "((2, 3, 4, 20),)\n"
     ]
    }
   ],
   "source": [
    "def perm_swap(*args):\n",
    "    print args\n",
    "\n",
    "perm_swap((2, 3, 4, 20))"
   ]
  },
  {
   "cell_type": "code",
   "execution_count": 7,
   "metadata": {
    "collapsed": true
   },
   "outputs": [],
   "source": [
    "def swap_inds_helper(i, j, arr):\n",
    "    tmp = arr[i]\n",
    "    arr[i] = arr[j]\n",
    "    arr[j] = tmp\n",
    "    \n",
    "def two_swap_inds_left(j, k, ind_arr):\n",
    "    \"\"\"\n",
    "    Mimicks the operation of two_swap_helper\n",
    "    Swaps j -> k, with j always to the left (greater index) than k\n",
    "    \n",
    "    BREAKS LEFT ORDERING\n",
    "    \"\"\"\n",
    "    new_arr = np.copy(ind_arr)\n",
    "    if j == k:\n",
    "        return new_arr\n",
    "    elif j > k:\n",
    "        swap_inds_helper(k - 1, k, new_arr)\n",
    "        for i in xrange(j, k, -1):\n",
    "            swap_inds_helper(i - 1, i, new_arr)\n",
    "    elif j < k:\n",
    "        for i in xrange(j, k, 1):\n",
    "            swap_inds_helper(i, i + 1, new_arr)\n",
    "    \n",
    "    return new_arr\n",
    "\n",
    "\n",
    "def two_swap_inds_right(j, k, ind_arr):\n",
    "    \"\"\"\n",
    "    Mimicks the operation of two_swap_helper\n",
    "    Swaps j -> k, with j always to the right (lower index) than k\n",
    "    \n",
    "    BREAKS RIGHT ORDERING\n",
    "    \"\"\"\n",
    "    new_arr = np.copy(ind_arr)\n",
    "    if j == k:\n",
    "        return new_arr\n",
    "    elif j > k:\n",
    "        for i in xrange(j, k, -1):\n",
    "            swap_inds_helper(i - 1, i, new_arr)\n",
    "    elif j < k:\n",
    "        swap_inds_helper(k, k + 1, new_arr)\n",
    "        for i in xrange(j, k - 1, 1):\n",
    "            swap_inds_helper(i, i + 1, new_arr)\n",
    "    \n",
    "    return new_arr"
   ]
  },
  {
   "cell_type": "code",
   "execution_count": 342,
   "metadata": {},
   "outputs": [
    {
     "name": "stdout",
     "output_type": "stream",
     "text": [
      "swap 4 with 5\n",
      "swap 9 with 10\n",
      "swap 8 with 9\n",
      "swap 7 with 8\n",
      "swap 6 with 7\n",
      "swap 5 with 6\n",
      "j at 5, k at 4\n"
     ]
    }
   ],
   "source": [
    "print \"swap {} with {}\".format(5 - 1, 5)\n",
    "for i in range(10, 5, -1):\n",
    "    print \"swap {} with {}\".format(i - 1, i)\n",
    "print \"j at 5, k at 4\""
   ]
  },
  {
   "cell_type": "code",
   "execution_count": 343,
   "metadata": {},
   "outputs": [
    {
     "name": "stdout",
     "output_type": "stream",
     "text": [
      "swap 5 with 6\n",
      "swap 6 with 7\n",
      "swap 7 with 8\n",
      "swap 8 with 9\n",
      "swap 9 with 10\n",
      "j at 10, k at 9\n"
     ]
    }
   ],
   "source": [
    "for i in range(5, 10):\n",
    "    print \"swap {} with {}\".format(i, i + 1)\n",
    "print \"j at 10, k at 9\""
   ]
  },
  {
   "cell_type": "code",
   "execution_count": 344,
   "metadata": {},
   "outputs": [
    {
     "name": "stdout",
     "output_type": "stream",
     "text": [
      "swap 9 with 10\n",
      "swap 8 with 9\n",
      "swap 7 with 8\n",
      "swap 6 with 7\n",
      "swap 5 with 6\n",
      "j at 5, k at 6\n"
     ]
    }
   ],
   "source": [
    "for i in range(10, 5, -1):\n",
    "    print \"swap {} with {}\".format(i - 1, i)\n",
    "print \"j at 5, k at 6\""
   ]
  },
  {
   "cell_type": "code",
   "execution_count": 345,
   "metadata": {},
   "outputs": [
    {
     "name": "stdout",
     "output_type": "stream",
     "text": [
      "swap 10 with 11\n",
      "swap 5 with 6\n",
      "swap 6 with 7\n",
      "swap 7 with 8\n",
      "swap 8 with 9\n",
      "swap 9 with 10\n",
      "j at 10, k at 11\n"
     ]
    }
   ],
   "source": [
    "print \"swap {} with {}\".format(10, 11)\n",
    "for i in range(5, 10, 1):\n",
    "    print \"swap {} with {}\".format(i, i + 1)\n",
    "print \"j at 10, k at 11\""
   ]
  },
  {
   "cell_type": "code",
   "execution_count": 353,
   "metadata": {},
   "outputs": [
    {
     "name": "stdout",
     "output_type": "stream",
     "text": [
      "We would like to map the qubit indices here:\n",
      "[17 19 13  1  2  3]\n",
      "to the qubit indices here, preserving the above ordering:\n",
      "[10 11 12 13 14 15]\n",
      "We begin...\n",
      "\n",
      "[11 12 13 14 15  3]\n",
      "still correct\n",
      "\n",
      "[12 13 14 15  2  3]\n",
      "still correct\n",
      "\n",
      "[13 14 15  1  2  3]\n",
      "still correct\n",
      "\n",
      "[14 15 13  1  2  3]\n",
      "still correct\n",
      "\n",
      "[15 19 14 13  1  2]\n",
      "incorrect now!\n",
      "\n",
      "[17 12 19 14 13  1]\n",
      "incorrect now!\n",
      "\n",
      "let's look at more of the array:\n",
      "[ 0  4  5  6  7  8  9 10 11 15 17 12 19 14 13  1  2  3 16 18]\n",
      "one more loop through, but backwards\n",
      "[17 12 19 14 13  1]\n",
      "[17 19 12 14 13  1]\n",
      "[17 19 13 12 14  1]\n",
      "[17 19 13  1 12 14]\n",
      "[17 19 13  1  2 12]\n",
      "[17 19 13  1  2  3]\n"
     ]
    }
   ],
   "source": [
    "# setup qubit index array to keep track\n",
    "num_qubits = 20\n",
    "qubit_arr = np.arange(num_qubits)\n",
    "\n",
    "inds = np.array((17, 19, 13, 1, 2, 3))\n",
    "\n",
    "# First, sort the list and find the median.\n",
    "sort_i = np.argsort(inds)\n",
    "sorted_inds = inds[sort_i]\n",
    "med_i = int(len(sort_i) / 2)\n",
    "med = sorted_inds[med_i]\n",
    "\n",
    "# The starting position of all specified Hilbert spaces begins at \n",
    "# the qubit at (median - med_i)\n",
    "start = med - med_i\n",
    "# Array of final indices the arguments are mapped to, from \n",
    "# high index to low index (left to right) ordering\n",
    "final_map = np.arange(start, start + len(inds))\n",
    "\n",
    "print(\"We would like to map the qubit indices here:\")\n",
    "print(inds)\n",
    "print(\"to the qubit indices here, preserving the above ordering:\")\n",
    "print(final_map)\n",
    "\n",
    "print \"We begin...\"\n",
    "\n",
    "print \n",
    "\n",
    "qubit_arr = two_swap_inds_left(np.where(qubit_arr == 3)[0][0], 15, qubit_arr)\n",
    "print qubit_arr[final_map[0]:final_map[-1] + 1]\n",
    "print 'still correct\\n'\n",
    "\n",
    "qubit_arr = two_swap_inds_left(np.where(qubit_arr == 2)[0][0], 14, qubit_arr)\n",
    "print qubit_arr[final_map[0]:final_map[-1] + 1]\n",
    "print 'still correct\\n'\n",
    "\n",
    "qubit_arr = two_swap_inds_left(np.where(qubit_arr == 1)[0][0], 13, qubit_arr)\n",
    "print qubit_arr[final_map[0]:final_map[-1] + 1]\n",
    "print 'still correct\\n'\n",
    "\n",
    "qubit_arr = two_swap_inds_left(np.where(qubit_arr == 13)[0][0], 12, qubit_arr)\n",
    "print qubit_arr[final_map[0]:final_map[-1] + 1]\n",
    "print 'still correct\\n'\n",
    "\n",
    "qubit_arr = two_swap_inds_left(np.where(qubit_arr == 19)[0][0], 11, qubit_arr)\n",
    "print qubit_arr[final_map[0]:final_map[-1] + 1]\n",
    "print 'incorrect now!\\n'\n",
    "\n",
    "qubit_arr = two_swap_inds_left(np.where(qubit_arr == 17)[0][0], 10, qubit_arr)\n",
    "print qubit_arr[final_map[0]:final_map[-1] + 1]\n",
    "print 'incorrect now!\\n'\n",
    "\n",
    "print \"let's look at more of the array:\"\n",
    "print qubit_arr\n",
    "print \"one more loop through, but backwards\"\n",
    "\n",
    "qubit_arr = two_swap_inds_right(np.where(qubit_arr == 17)[0][0], 10, qubit_arr)\n",
    "print qubit_arr[final_map[0]:final_map[-1] + 1]\n",
    "\n",
    "qubit_arr = two_swap_inds_right(np.where(qubit_arr == 19)[0][0], 11, qubit_arr)\n",
    "print qubit_arr[final_map[0]:final_map[-1] + 1]\n",
    "\n",
    "qubit_arr = two_swap_inds_right(np.where(qubit_arr == 13)[0][0], 12, qubit_arr)\n",
    "print qubit_arr[final_map[0]:final_map[-1] + 1]\n",
    "\n",
    "qubit_arr = two_swap_inds_right(np.where(qubit_arr == 1)[0][0], 13, qubit_arr)\n",
    "print qubit_arr[final_map[0]:final_map[-1] + 1]\n",
    "\n",
    "qubit_arr = two_swap_inds_right(np.where(qubit_arr == 2)[0][0], 14, qubit_arr)\n",
    "print qubit_arr[final_map[0]:final_map[-1] + 1]\n",
    "\n",
    "qubit_arr = two_swap_inds_right(np.where(qubit_arr == 3)[0][0], 15, qubit_arr)\n",
    "print qubit_arr[final_map[0]:final_map[-1] + 1]\n",
    "\n",
    "# print 'incorrect now!\\n'\n",
    "\n",
    "# qubit_arr = two_swap_inds(1, 13, qubit_arr)\n",
    "# print qubit_arr[final_map[0]:final_map[-1] + 1]\n",
    "# qubit_arr = two_swap_inds(1, 13, qubit_arr)\n",
    "# print qubit_arr[final_map[0]:final_map[-1] + 1]\n",
    "\n",
    "# qubit_arr = two_swap_inds(10, 19, qubit_arr)\n",
    "# print qubit_arr"
   ]
  },
  {
   "cell_type": "code",
   "execution_count": 12,
   "metadata": {},
   "outputs": [
    {
     "name": "stdout",
     "output_type": "stream",
     "text": [
      "We would like to map the qubit indices here:\n",
      "[15 16 18  2 10]\n",
      "to the qubit indices here, preserving the above ordering:\n",
      "[13 14 15 16 17]\n",
      "We begin...\n",
      "\n",
      "[13 14 15 16 17]\n",
      "[14 15 16 17 10]\n",
      "[15 16 17  2 10]\n",
      "[15 17 18 16  2]\n",
      "[17 16 15 18  2]\n",
      "[15 14 16 18  2]\n",
      "needed second iteration...\n",
      "[15 14 16 18  2]\n",
      "needed second iteration...\n",
      "[15 16 14 18  2]\n",
      "needed second iteration...\n",
      "[15 16 18 14  2]\n",
      "needed second iteration...\n",
      "[15 16 18  2 14]\n",
      "needed second iteration...\n",
      "[15 16 18  2 10]\n"
     ]
    }
   ],
   "source": [
    "# setup qubit index array to keep track\n",
    "num_qubits = 20\n",
    "qubit_arr = np.arange(num_qubits)\n",
    "\n",
    "x = np.arange(num_qubits)\n",
    "np.random.shuffle(x)\n",
    "x = np.array([15, 16, 18, 2, 10])\n",
    "\n",
    "inds = x\n",
    "\n",
    "# First, sort the list and find the median.\n",
    "sort_i = np.argsort(inds)\n",
    "sorted_inds = inds[sort_i]\n",
    "med_i = int(len(sort_i) / 2)\n",
    "med = sorted_inds[med_i]\n",
    "\n",
    "# The starting position of all specified Hilbert spaces begins at \n",
    "# the qubit at (median - med_i)\n",
    "start = med - med_i\n",
    "# Array of final indices the arguments are mapped to, from \n",
    "# high index to low index (left to right) ordering\n",
    "final_map = np.arange(start, start + len(inds))\n",
    "\n",
    "print(\"We would like to map the qubit indices here:\")\n",
    "print(inds)\n",
    "print(\"to the qubit indices here, preserving the above ordering:\")\n",
    "print(final_map)\n",
    "\n",
    "print \"We begin...\"\n",
    "\n",
    "print \n",
    "\n",
    "def iter_swap(source_num, dest_ind, arr, vec='left'):\n",
    "    source_ind = np.where(arr == source_num)[0][0]\n",
    "    if vec == 'left':\n",
    "        res = two_swap_inds_left(source_ind, dest_ind, arr)\n",
    "    else:\n",
    "        res = two_swap_inds_right(source_ind, dest_ind, arr)\n",
    "    print arr[final_map[0]:final_map[-1] + 1]\n",
    "    return arr\n",
    "\n",
    "print qubit_arr[final_map[0]:final_map[-1] + 1]\n",
    "\n",
    "# left iter\n",
    "for i in range(len(final_map))[::-1]:\n",
    "    qubit_arr = two_swap_inds_left(np.where(qubit_arr == inds[i])[0][0], final_map[i], qubit_arr)\n",
    "    print qubit_arr[final_map[0]:final_map[-1] + 1]\n",
    "    if np.allclose(qubit_arr[final_map[0]:final_map[-1] + 1], x):\n",
    "        print \"reached!\"\n",
    "        break\n",
    "    \n",
    "# right iter\n",
    "for i in range(len(final_map)):\n",
    "    if not np.allclose(qubit_arr[final_map[0]:final_map[-1] + 1], x):\n",
    "        print \"needed second iteration...\"\n",
    "    else:\n",
    "        break\n",
    "    qubit_arr = two_swap_inds_right(np.where(qubit_arr == inds[i])[0][0], final_map[i], qubit_arr)\n",
    "    print qubit_arr[final_map[0]:final_map[-1] + 1]\n",
    "\n",
    "\n",
    "# qubit_arr = iter_swap(7, 14, qubit_arr, vec='left')"
   ]
  },
  {
   "cell_type": "code",
   "execution_count": 281,
   "metadata": {},
   "outputs": [
    {
     "name": "stdout",
     "output_type": "stream",
     "text": [
      "[ 0  1  2  3  4  5  6  7  8  9 10 11 12 13 14 15 16 17 18 19]\n",
      "[ 0  1  2  3  4  5  6  7  8  9 19 11 12 13 14 15 16 17 18 10]\n"
     ]
    }
   ],
   "source": [
    "num_qubits = 20\n",
    "qubit_arr = np.arange(num_qubits)\n",
    "print qubit_arr\n",
    "swap_inds(10, 19, qubit_arr)\n",
    "print qubit_arr"
   ]
  },
  {
   "cell_type": "markdown",
   "metadata": {},
   "source": [
    "# Unitary Gen - generalized SWAP"
   ]
  },
  {
   "cell_type": "code",
   "execution_count": 123,
   "metadata": {},
   "outputs": [
    {
     "data": {
      "text/plain": [
       "'0b10000000000'"
      ]
     },
     "execution_count": 123,
     "metadata": {},
     "output_type": "execute_result"
    }
   ],
   "source": [
    "j = 10\n",
    "k = 5\n",
    "\n",
    "bin(1 << j)"
   ]
  },
  {
   "cell_type": "code",
   "execution_count": 154,
   "metadata": {},
   "outputs": [
    {
     "name": "stdout",
     "output_type": "stream",
     "text": [
      "True\n"
     ]
    }
   ],
   "source": [
    "x = 1 << 2\n",
    "y = 1 << 4\n",
    "ans = 237\n",
    "\n",
    "res1 = ans & x is 0 \n",
    "res2 = ans & y is 0 \n",
    "print res1 ^ res2"
   ]
  },
  {
   "cell_type": "code",
   "execution_count": 169,
   "metadata": {
    "collapsed": true
   },
   "outputs": [],
   "source": [
    "def mask_swap(j, k, state_list):\n",
    "    j_mask = 1 << j\n",
    "    k_mask = 1 << k\n",
    "    print j, k\n",
    "    return map(lambda state: (state & j_mask >> j) ^ (state & k_mask >> k), state_list)"
   ]
  },
  {
   "cell_type": "code",
   "execution_count": 170,
   "metadata": {},
   "outputs": [
    {
     "name": "stdout",
     "output_type": "stream",
     "text": [
      "0\n",
      "1\n",
      "0\n",
      "1\n",
      "0\n",
      "1\n",
      "0\n",
      "1\n",
      "0\n",
      "1\n",
      "0\n",
      "1\n",
      "0\n",
      "1\n",
      "0\n",
      "1\n",
      "0\n",
      "1\n",
      "0\n",
      "1\n"
     ]
    }
   ],
   "source": [
    "states = range(20)\n",
    "for i in states:\n",
    "    print i & (1 << 2) >> 2"
   ]
  },
  {
   "cell_type": "code",
   "execution_count": 273,
   "metadata": {
    "collapsed": true
   },
   "outputs": [],
   "source": [
    "def decompose_states(j, k, states):\n",
    "    num_qubits = np.log2(states.shape[0]).astype(int)\n",
    "\n",
    "    assert j < k or j > k\n",
    "    assert j <= num_qubits - 1 and j >= 0\n",
    "    assert k <= num_qubits - 1 and k >= 0\n",
    "\n",
    "    # Compute the other bits, by excising the left/right SWAP bits\n",
    "    low_num = j\n",
    "    mid_num = k - low_num - 1\n",
    "    high_num = num_qubits - low_num - mid_num - 2\n",
    "    \n",
    "    low_mask = np.left_shift(np.ones(states.shape[0]).astype(np.int64), low_num) - 1\n",
    "    mid_mask = np.left_shift(np.ones(states.shape[0]).astype(np.int64), mid_num) - 1\n",
    "    mid_mask = np.left_shift(mid_mask, low_num + 1)\n",
    "    high_mask = np.left_shift(np.ones(states.shape[0]).astype(np.int64), high_num) - 1\n",
    "    high_mask = np.left_shift(high_mask, low_num + mid_num + 2)\n",
    "    \n",
    "    high_part = np.right_shift(np.bitwise_and(states, high_mask), 2)\n",
    "    mid_part = np.right_shift(np.bitwise_and(states, mid_mask), 1)\n",
    "    low_part = np.bitwise_and(states, low_mask)\n",
    "\n",
    "    other_bits = low_part + mid_part + high_part\n",
    "    \n",
    "    # Compute the left and right bits in arrays\n",
    "    \n",
    "    j_mask = np.left_shift(np.ones(states.shape[0]).astype(np.int64), j)\n",
    "    k_mask = np.left_shift(np.ones(states.shape[0]).astype(np.int64), k)\n",
    "    \n",
    "    left_bits = np.right_shift(np.bitwise_and(states, j_mask), j)\n",
    "    right_bits = np.right_shift(np.bitwise_and(states, k_mask), k)\n",
    "    \n",
    "    return other_bits, left_bits, right_bits"
   ]
  },
  {
   "cell_type": "code",
   "execution_count": 274,
   "metadata": {},
   "outputs": [
    {
     "name": "stdout",
     "output_type": "stream",
     "text": [
      "[0 0 0 0 0 0 0 0 0 0 0 0 0 0 0 0]\n",
      "[0 0 0 0 0 0 0 0 0 0 0 0 0 0 0 0]\n",
      "[0 0 0 0 1 1 1 1 2 2 2 2 3 3 3 3]\n"
     ]
    }
   ],
   "source": [
    "states = np.arange(2 ** 4).astype(np.int64)\n",
    "ob, lb, rb = decompose_states(0, 1, states)"
   ]
  },
  {
   "cell_type": "code",
   "execution_count": null,
   "metadata": {
    "collapsed": true
   },
   "outputs": [],
   "source": [
    "def construct_SWAP(ob, lb, rb, num_qubits):\n",
    "    swapped_states = np.bitwise_xor(lb, rb)\n",
    "    ob = pd.factorize(ob)\n",
    "    \n",
    "    for ind in ob[1]:\n",
    "        new_range = np.where(ob[0] == ind)[0]\n",
    "        "
   ]
  },
  {
   "cell_type": "code",
   "execution_count": 264,
   "metadata": {},
   "outputs": [
    {
     "name": "stdout",
     "output_type": "stream",
     "text": [
      "[0 0 0 0 1 1 1 1]\n",
      "[0 1 1 0 0 1 1 0]\n"
     ]
    }
   ],
   "source": [
    "import pandas as pd\n",
    "print ob\n",
    "print np.bitwise_xor(lb, rb)\n",
    "ob = pd.factorize(ob)\n",
    "swapped_states = np.bitwise_xor(lb, rb)"
   ]
  },
  {
   "cell_type": "code",
   "execution_count": 254,
   "metadata": {},
   "outputs": [
    {
     "data": {
      "text/plain": [
       "(array([0, 0, 0, 0, 1, 1, 1, 1]), array([0, 1]))"
      ]
     },
     "execution_count": 254,
     "metadata": {},
     "output_type": "execute_result"
    }
   ],
   "source": [
    "ob"
   ]
  },
  {
   "cell_type": "code",
   "execution_count": 267,
   "metadata": {},
   "outputs": [
    {
     "data": {
      "text/plain": [
       "[(0, 0), (0, 1), (0, 1), (0, 0), (1, 0), (1, 1), (1, 1), (1, 0)]"
      ]
     },
     "execution_count": 267,
     "metadata": {},
     "output_type": "execute_result"
    }
   ],
   "source": [
    "zip(ob[0], swapped_states)"
   ]
  },
  {
   "cell_type": "code",
   "execution_count": 268,
   "metadata": {},
   "outputs": [
    {
     "name": "stdout",
     "output_type": "stream",
     "text": [
      "[0 0 0 0 1 1 1 1]\n",
      "[0 1 1 0 0 1 1 0]\n"
     ]
    }
   ],
   "source": [
    "print ob[0]\n",
    "print swapped_states"
   ]
  },
  {
   "cell_type": "code",
   "execution_count": 272,
   "metadata": {},
   "outputs": [
    {
     "ename": "SyntaxError",
     "evalue": "invalid syntax (<ipython-input-272-e035fcbe199d>, line 2)",
     "output_type": "error",
     "traceback": [
      "\u001b[0;36m  File \u001b[0;32m\"<ipython-input-272-e035fcbe199d>\"\u001b[0;36m, line \u001b[0;32m2\u001b[0m\n\u001b[0;31m    print [i if swap == 1 for (sid, swap) in zip(ob[0], swapped_states)]\u001b[0m\n\u001b[0m                            ^\u001b[0m\n\u001b[0;31mSyntaxError\u001b[0m\u001b[0;31m:\u001b[0m invalid syntax\n"
     ]
    }
   ],
   "source": [
    "for ind in ob[1]:\n",
    "    print [i if swap == 1 for (sid, swap) in zip(ob[0], swapped_states)]"
   ]
  },
  {
   "cell_type": "code",
   "execution_count": 195,
   "metadata": {
    "scrolled": true
   },
   "outputs": [
    {
     "name": "stdout",
     "output_type": "stream",
     "text": [
      "[0 1 0 1 0 1 0 1]\n",
      "[0 0 1 1 0 0 1 1]\n",
      "[0 1 1 0 0 1 1 0]\n"
     ]
    }
   ],
   "source": [
    "j = 0\n",
    "k = 1\n",
    "\n",
    "states = np.arange(2 ** 3).astype(int)\n",
    "j_mask = np.left_shift(np.ones(states.shape[0]).astype(np.int64), j)\n",
    "k_mask = np.left_shift(np.ones(states.shape[0]).astype(np.int64), k)\n",
    "\n",
    "oth_bits = None\n",
    "\n",
    "left_bits = np.right_shift(np.bitwise_and(states, j_mask), j)\n",
    "right_bits = np.right_shift(np.bitwise_and(states, k_mask), k)\n",
    "\n",
    "print left_bits\n",
    "print right_bits\n",
    "\n",
    "print np.bitwise_xor(left_bits, right_bits)"
   ]
  },
  {
   "cell_type": "code",
   "execution_count": 232,
   "metadata": {},
   "outputs": [
    {
     "name": "stdout",
     "output_type": "stream",
     "text": [
      "756 in binary is:\n",
      "0b1011110100\n",
      "High, mid, and low parts:\n",
      "0b10110000\n",
      "0b1000\n",
      "0b100\n",
      "0b10111100\n"
     ]
    }
   ],
   "source": [
    "j = 3\n",
    "k = 5\n",
    "num_qubits = 10\n",
    "\n",
    "# print bin(1 << j)\n",
    "# print bin((1 << j) - 1)\n",
    "# print bin(1 << k)\n",
    "# print bin((1 << k) - 1)\n",
    "\n",
    "low_num = j\n",
    "mid_num = k - low_num - 1\n",
    "high_num = num_qubits - low_num - mid_num - 2\n",
    "\n",
    "low_mask = (1 << low_num) - 1\n",
    "mid_mask = ((1 << mid_num) - 1) << (low_num + 1)\n",
    "high_mask = ((1 << high_num) - 1) << (low_num + mid_num + 2)\n",
    "\n",
    "# print bin(low_mask)\n",
    "# print bin(mid_mask)\n",
    "# print bin(high_mask)\n",
    "\n",
    "num = 756\n",
    "print \"{} in binary is:\".format(num)\n",
    "print bin(num)\n",
    "\n",
    "high_part = (num & high_mask) >> 2\n",
    "mid_part = (num & mid_mask) >> 1\n",
    "low_part = (num & low_mask)\n",
    "\n",
    "print \"High, mid, and low parts:\"\n",
    "print bin(high_part)\n",
    "print bin(mid_part)\n",
    "print bin(low_part)\n",
    "print bin(low_part + mid_part + high_part)"
   ]
  },
  {
   "cell_type": "code",
   "execution_count": 119,
   "metadata": {},
   "outputs": [
    {
     "name": "stdout",
     "output_type": "stream",
     "text": [
      "0b1\n",
      "0b10\n",
      "0b11\n",
      "0b100\n",
      "0b101\n",
      "0b110\n",
      "0b111\n",
      "0b1000\n"
     ]
    }
   ],
   "source": [
    "for i in range(1, 9, 1):\n",
    "    x = bin(i)\n",
    "    y =\n",
    "    print x"
   ]
  }
 ],
 "metadata": {
  "kernelspec": {
   "display_name": "Python 2",
   "language": "python",
   "name": "python2"
  },
  "language_info": {
   "codemirror_mode": {
    "name": "ipython",
    "version": 2
   },
   "file_extension": ".py",
   "mimetype": "text/x-python",
   "name": "python",
   "nbconvert_exporter": "python",
   "pygments_lexer": "ipython2",
   "version": "2.7.12"
  }
 },
 "nbformat": 4,
 "nbformat_minor": 2
}
