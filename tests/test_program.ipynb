{
 "cells": [
  {
   "cell_type": "code",
   "execution_count": 1,
   "metadata": {
    "collapsed": true
   },
   "outputs": [],
   "source": [
    "import numpy as np\n",
    "from pyquil.quil import Program\n",
    "from pyquil.gates import *\n",
    "from pyquil.quilbase import *\n",
    "\n",
    "from unitary_generator import apply_gate, permutation_arbitrary, lifted_gate\n",
    "from gates import gate_matrix, utility_gates"
   ]
  },
  {
   "cell_type": "code",
   "execution_count": 2,
   "metadata": {
    "collapsed": true
   },
   "outputs": [],
   "source": [
    "import pyquil.quil as pq \n",
    "import api as api\n",
    "from pyquil.gates import *\n",
    "\n",
    "# open a 'connection' to the reference-qvm\n",
    "qvm = api.Connection()"
   ]
  },
  {
   "cell_type": "markdown",
   "metadata": {},
   "source": [
    "## Basic tests"
   ]
  },
  {
   "cell_type": "code",
   "execution_count": 3,
   "metadata": {},
   "outputs": [
    {
     "name": "stdout",
     "output_type": "stream",
     "text": [
      "[[ 0.00000000+0.j]\n",
      " [ 0.70710678+0.j]\n",
      " [ 0.00000000+0.j]\n",
      " [ 0.70710678+0.j]]\n",
      "[array([ True], dtype=bool)]\n",
      "(0.7071067812+0j)|01> + (0.7071067812+0j)|11>\n"
     ]
    }
   ],
   "source": [
    "p = Program().inst(H(0), H(1))\n",
    "p.measure(0, [0])\n",
    "m_obj = p.synthesize()[1]\n",
    "wf, data = qvm.wavefunction(p)\n",
    "print wf.amplitudes\n",
    "print data\n",
    "print wf"
   ]
  },
  {
   "cell_type": "markdown",
   "metadata": {},
   "source": [
    "## Single-shot Grover's"
   ]
  },
  {
   "cell_type": "code",
   "execution_count": 4,
   "metadata": {
    "collapsed": true
   },
   "outputs": [],
   "source": [
    "data = [0, 0, 0, 1]\n",
    "\n",
    "N = len(data)\n",
    "n = int(np.log2(N))\n",
    "assert(N > 0)\n",
    "\n",
    "# setup program\n",
    "p = Program()\n",
    "\n",
    "# run program on qvm\n",
    "qvm = api.Connection()\n",
    "\n",
    "# initialize n qubits to the mixed state\n",
    "for i in range(n):\n",
    "    p.inst(H(i))\n",
    "    \n",
    "# oracle operator\n",
    "outer_w = np.diag(data)\n",
    "Uw = np.identity(N) - 2 * outer_w\n",
    "p.defgate(\"G-ORAC\", Uw)\n",
    "inst_orac = tuple([\"G-ORAC\"] + range(n))\n",
    "\n",
    "# diffusion operator\n",
    "Us = (2. / N) * np.ones(N * N).reshape((N, N)) - np.identity(N)\n",
    "p.defgate(\"G-DIFF\", Us)\n",
    "inst_diff = tuple([\"G-DIFF\"] + range(n))\n",
    "\n",
    "# single-shot Grover iteration\n",
    "p.inst(inst_orac, inst_diff)\n",
    "\n",
    "# measurement\n",
    "for i in range(n):\n",
    "    p.measure(i, [i])"
   ]
  },
  {
   "cell_type": "code",
   "execution_count": 5,
   "metadata": {},
   "outputs": [
    {
     "name": "stdout",
     "output_type": "stream",
     "text": [
      "DEFGATE G-ORAC:\n",
      "    1.0, 0.0, 0.0, 0.0\n",
      "    0.0, 1.0, 0.0, 0.0\n",
      "    0.0, 0.0, 1.0, 0.0\n",
      "    0.0, 0.0, 0.0, -1.0\n",
      "\n",
      "DEFGATE G-DIFF:\n",
      "    -0.5, 0.5, 0.5, 0.5\n",
      "    0.5, -0.5, 0.5, 0.5\n",
      "    0.5, 0.5, -0.5, 0.5\n",
      "    0.5, 0.5, 0.5, -0.5\n",
      "\n",
      "H 0\n",
      "H 1\n",
      "G-ORAC 0 1\n",
      "G-DIFF 0 1\n",
      "MEASURE 0 [0]\n",
      "MEASURE 1 [1]\n",
      "\n"
     ]
    }
   ],
   "source": [
    "print p"
   ]
  },
  {
   "cell_type": "code",
   "execution_count": 6,
   "metadata": {},
   "outputs": [],
   "source": [
    "# results are returned in the measured classical registers\n",
    "results = qvm.run(p, range(n))"
   ]
  },
  {
   "cell_type": "code",
   "execution_count": 7,
   "metadata": {
    "collapsed": true
   },
   "outputs": [],
   "source": [
    "ret = int(''.join([str(int(e)) for e in results[0]]), 2)\n",
    "assert(data[ret] == 1)"
   ]
  },
  {
   "cell_type": "code",
   "execution_count": 8,
   "metadata": {},
   "outputs": [
    {
     "data": {
      "text/plain": [
       "[[True, True]]"
      ]
     },
     "execution_count": 8,
     "metadata": {},
     "output_type": "execute_result"
    }
   ],
   "source": [
    "results"
   ]
  },
  {
   "cell_type": "markdown",
   "metadata": {},
   "source": [
    "## Maximum qubit test"
   ]
  },
  {
   "cell_type": "code",
   "execution_count": 9,
   "metadata": {
    "collapsed": true
   },
   "outputs": [],
   "source": [
    "# setup program\n",
    "p = Program()\n",
    "\n",
    "# run program on qvm\n",
    "qvm = api.Connection()\n",
    "\n",
    "n = 20\n",
    "# initialize n qubits to the mixed state\n",
    "for i in range(n):\n",
    "    p.inst(H(i))"
   ]
  },
  {
   "cell_type": "code",
   "execution_count": 10,
   "metadata": {},
   "outputs": [
    {
     "name": "stdout",
     "output_type": "stream",
     "text": [
      "[array([], dtype=float64)]\n"
     ]
    }
   ],
   "source": [
    "mask = None\n",
    "print list(np.array([])[mask])"
   ]
  },
  {
   "cell_type": "code",
   "execution_count": 11,
   "metadata": {},
   "outputs": [
    {
     "name": "stdout",
     "output_type": "stream",
     "text": [
      "H 0\n",
      "H 1\n",
      "H 2\n",
      "H 3\n",
      "H 4\n",
      "H 5\n",
      "H 6\n",
      "H 7\n",
      "H 8\n",
      "H 9\n",
      "H 10\n",
      "H 11\n",
      "H 12\n",
      "H 13\n",
      "H 14\n",
      "H 15\n",
      "H 16\n",
      "H 17\n",
      "H 18\n",
      "H 19\n",
      "\n"
     ]
    }
   ],
   "source": [
    "print p\n",
    "\n",
    "# results are returned in the measured classical registers\n",
    "results = qvm.wavefunction(p)"
   ]
  },
  {
   "cell_type": "markdown",
   "metadata": {},
   "source": [
    "## Grove algorithm testing"
   ]
  },
  {
   "cell_type": "code",
   "execution_count": 12,
   "metadata": {
    "collapsed": true
   },
   "outputs": [],
   "source": [
    "import numpy as np\n",
    "from grove.pyqaoa.maxcut_qaoa import maxcut_qaoa\n",
    "qvm_connection = api.Connection()"
   ]
  },
  {
   "cell_type": "code",
   "execution_count": 13,
   "metadata": {
    "collapsed": true
   },
   "outputs": [
    {
     "name": "stdout",
     "output_type": "stream",
     "text": [
      "WARNING: Fast method for expectation will be used. Noise\n",
      "                     models will be ineffective\n",
      "\tParameters: [ 0.69015608  0.32325579  5.98663447  1.4742472 ] \n",
      "\tE => -1.43441749975\n",
      "\tParameters: [ 0.69015608  0.32325579  5.98663447  1.4742472 ] \n",
      "\tE => -1.48354226052\n",
      "\tParameters: [ 0.748388    0.32022527  6.18262548  1.39132079] \n",
      "\tE => -2.13090508162\n",
      "\tParameters: [ 0.69716548  0.31795238  6.54342711  1.32912599] \n",
      "\tE => -3.00961955614\n",
      "\tParameters: [ 0.69716548  0.31795238  6.54342711  1.32912599] \n",
      "\tE => -2.69806660226\n",
      "\tParameters: [ 0.70855575  0.32751747  7.05623314  1.3328692 ] \n",
      "\tE => -3.59101186044\n",
      "\tParameters: [ 0.70855575  0.32751747  7.05623314  1.3328692 ] \n",
      "\tE => -3.48271091508\n",
      "\tParameters: [ 0.70855575  0.32751747  7.05623314  1.3328692 ] \n",
      "\tE => -3.43970075514\n",
      "\tParameters: [ 0.70855575  0.32751747  7.05623314  1.3328692 ] \n",
      "\tE => -3.24784849774\n",
      "\tParameters: [ 0.70855575  0.32751747  7.05623314  1.3328692 ] \n",
      "\tE => -3.56520932195\n",
      "\tParameters: [ 0.70855575  0.32751747  7.05623314  1.3328692 ] \n",
      "\tE => -3.50604656507\n",
      "\tParameters: [ 0.70855575  0.32751747  7.05623314  1.3328692 ] \n",
      "\tE => -3.56659483472\n",
      "\tParameters: [ 0.62272537  0.34006313  7.19155703  1.33993581] \n",
      "\tE => -3.75184949029\n",
      "\tParameters: [ 0.62272537  0.34006313  7.19155703  1.33993581] \n",
      "\tE => -3.63915408185\n",
      "\tParameters: [ 0.62272537  0.34006313  7.19155703  1.33993581] \n",
      "\tE => -3.58450277742\n",
      "\tParameters: [ 0.62272537  0.34006313  7.19155703  1.33993581] \n",
      "\tE => -3.6777165844\n",
      "\tParameters: [ 0.62272537  0.34006313  7.19155703  1.33993581] \n",
      "\tE => -3.68621678076\n",
      "\tParameters: [ 0.62272537  0.34006313  7.19155703  1.33993581] \n",
      "\tE => -3.72967592681\n",
      "\tParameters: [ 0.62272537  0.34006313  7.19155703  1.33993581] \n",
      "\tE => -3.71157396242\n",
      "\tParameters: [ 0.62272537  0.34006313  7.19155703  1.33993581] \n",
      "\tE => -3.69852251755\n",
      "\tParameters: [ 0.58339873  0.34108785  7.13464787  1.35066945] \n",
      "\tE => -3.77255943747\n",
      "\tParameters: [ 0.58339873  0.34108785  7.13464787  1.35066945] \n",
      "\tE => -3.74522402106\n",
      "\tParameters: [ 0.58339873  0.34108785  7.13464787  1.35066945] \n",
      "\tE => -3.75039509395\n",
      "\tParameters: [ 0.58339873  0.34108785  7.13464787  1.35066945] \n",
      "\tE => -3.74906260654\n",
      "\tParameters: [ 0.62231831  0.3397006   7.06451642  1.33346428] \n",
      "\tE => -3.78144603679\n",
      "\tParameters: [ 0.62231831  0.3397006   7.06451642  1.33346428] \n",
      "\tE => -3.76962337913\n",
      "\tParameters: [ 0.59590236  0.33998316  7.19285666  1.29232179] \n",
      "\tE => -3.81854869214\n",
      "\tParameters: [ 0.57728058  0.33626245  7.02962458  1.29482095] \n",
      "\tE => -3.82451985326\n",
      "\tParameters: [ 0.57728058  0.33626245  7.02962458  1.29482095] \n",
      "\tE => -3.8188985053\n",
      "\tParameters: [ 0.59473237  0.33893711  7.03511373  1.2658859 ] \n",
      "\tE => -3.848265176\n",
      "\tParameters: [ 0.54201983  0.33994261  7.09054383  1.24930188] \n",
      "\tE => -3.82603026076\n",
      "\tParameters: [ 0.54201983  0.33994261  7.09054383  1.24930188] \n",
      "\tE => -3.84679128836\n",
      "\tParameters: [ 0.60072798  0.3280722   7.10321374  1.19735541] \n",
      "\tE => -3.8757053528\n",
      "\tParameters: [ 0.5826097   0.33716217  7.14601322  1.20468812] \n",
      "\tE => -3.88855900064\n",
      "\tParameters: [ 0.57774454  0.33215974  7.06503797  1.17214071] \n",
      "\tE => -3.88096493466\n",
      "\tParameters: [ 0.57774454  0.33215974  7.06503797  1.17214071] \n",
      "\tE => -3.88536601902\n",
      "\tParameters: [ 0.57774454  0.33215974  7.06503797  1.17214071] \n",
      "\tE => -3.88521016735\n",
      "\tParameters: [ 0.57774454  0.33215974  7.06503797  1.17214071] \n",
      "\tE => -3.88919325611\n",
      "\tParameters: [ 0.56695504  0.33335729  7.15304973  1.1323447 ] \n",
      "\tE => -3.88899089704\n",
      "\tParameters: [ 0.57595211  0.34130103  7.08410499  1.19438743] \n",
      "\tE => -3.89342679834\n",
      "\tParameters: [ 0.57595211  0.34130103  7.08410499  1.19438743] \n",
      "\tE => -3.90088726131\n",
      "\tParameters: [ 0.57595211  0.34130103  7.08410499  1.19438743] \n",
      "\tE => -3.89921850104\n",
      "\tParameters: [ 0.55033495  0.34156051  7.15010915  1.14380171] \n",
      "\tE => -3.89430814934\n",
      "\tParameters: [ 0.55033495  0.34156051  7.15010915  1.14380171] \n",
      "\tE => -3.90576209058\n",
      "\tParameters: [ 0.55033495  0.34156051  7.15010915  1.14380171] \n",
      "\tE => -3.90212455341\n",
      "\tParameters: [ 0.56601491  0.34833736  7.05518496  1.16367795] \n",
      "\tE => -3.91542743703\n",
      "\tParameters: [ 0.56601491  0.34833736  7.05518496  1.16367795] \n",
      "\tE => -3.91181458783\n",
      "\tParameters: [ 0.56601491  0.34833736  7.05518496  1.16367795] \n",
      "\tE => -3.9067345616\n",
      "\tParameters: [ 0.5577909   0.3539003   7.14138755  1.10570456] \n",
      "\tE => -3.93016474208\n",
      "\tParameters: [ 0.5577909   0.3539003   7.14138755  1.10570456] \n",
      "\tE => -3.91973947815\n",
      "\tParameters: [ 0.5577909   0.3539003   7.14138755  1.10570456] \n",
      "\tE => -3.92504588801\n",
      "\tParameters: [ 0.5687805   0.36416908  7.04851565  1.13541203] \n",
      "\tE => -3.93175333263\n",
      "\tParameters: [ 0.57559899  0.36242845  7.10795279  1.08498333] \n",
      "\tE => -3.92849350488\n",
      "\tParameters: [ 0.57354936  0.3766001   7.13205302  1.15437206] \n",
      "\tE => -3.96053939135\n",
      "\tParameters: [ 0.57354936  0.3766001   7.13205302  1.15437206] \n",
      "\tE => -3.95113844141\n",
      "\tParameters: [ 0.57733358  0.38503642  7.07736759  1.12503186] \n",
      "\tE => -3.95615451833\n",
      "\tParameters: [ 0.57062051  0.38520131  7.18466547  1.09013431] \n",
      "\tE => -3.95184682547\n",
      "\tParameters: [ 0.56131278  0.39832837  7.16358467  1.1431385 ] \n",
      "\tE => -3.9775707249\n",
      "\tParameters: [ 0.56131278  0.39832837  7.16358467  1.1431385 ] \n",
      "\tE => -3.97211124868\n",
      "\tParameters: [ 0.57666745  0.42165484  7.15249216  1.08720909] \n",
      "\tE => -3.98585359343\n",
      "\tParameters: [ 0.57666745  0.42165484  7.15249216  1.08720909] \n",
      "\tE => -3.97968897834\n",
      "\tParameters: [ 0.57866901  0.43199869  7.15725963  1.16986874] \n",
      "\tE => -3.96974018694\n",
      "\tParameters: [ 0.55499201  0.4363384   7.2257851   1.090488  ] \n",
      "\tE => -3.9783841474\n",
      "\tParameters: [ 0.55499201  0.4363384   7.2257851   1.090488  ] \n",
      "\tE => -3.98932748264\n",
      "\tParameters: [ 0.55499201  0.4363384   7.2257851   1.090488  ] \n",
      "\tE => -3.98891512474\n",
      "\tParameters: [ 0.56669492  0.4679487   7.22131141  1.13784085] \n",
      "\tE => -3.9738189797\n",
      "\tParameters: [ 0.57172378  0.45187484  7.17414553  1.11064982] \n",
      "\tE => -3.99696949468\n",
      "\tParameters: [ 0.57172378  0.45187484  7.17414553  1.11064982] \n",
      "\tE => -3.9967542531\n",
      "\tParameters: [ 0.57172378  0.45187484  7.17414553  1.11064982] \n",
      "\tE => -3.9959138968\n",
      "\tParameters: [ 0.56070973  0.44398914  7.20779236  1.11215414] \n",
      "\tE => -3.99822136704\n",
      "\tParameters: [ 0.56070973  0.44398914  7.20779236  1.11215414] \n",
      "\tE => -3.99801407971\n",
      "\tParameters: [ 0.56065773  0.44376922  7.18166783  1.13452832] \n",
      "\tE => -3.99887263448\n",
      "\tParameters: [ 0.56065773  0.44376922  7.18166783  1.13452832] \n",
      "\tE => -3.99818796291\n",
      "\tParameters: [ 0.56592755  0.44680505  7.17964097  1.11407191] \n",
      "\tE => -3.99918417738\n",
      "\tParameters: [ 0.55715253  0.45512209  7.20663222  1.10875773] \n",
      "\tE => -3.99772660748\n",
      "\tParameters: [ 0.55715253  0.45512209  7.20663222  1.10875773] \n",
      "\tE => -3.99936089884\n",
      "\tParameters: [ 0.56021429  0.4518849   7.17018935  1.12114835] \n",
      "\tE => -3.99705427836\n",
      "\tParameters: [ 0.56050444  0.44686758  7.18389453  1.12391729] \n",
      "\tE => -3.99976587245\n",
      "\tParameters: [ 0.55552927  0.45156983  7.19095644  1.11661544] \n",
      "\tE => -3.99977553121\n",
      "\tParameters: [ 0.55552927  0.45156983  7.19095644  1.11661544] \n",
      "\tE => -3.9996558856\n",
      "\tParameters: [ 0.55793102  0.45343515  7.19492289  1.11533555] \n",
      "\tE => -3.99990777605\n",
      "\tParameters: [ 0.55793102  0.45343515  7.19492289  1.11533555] \n",
      "\tE => -3.99988832306\n",
      "\tParameters: [ 0.55843768  0.45382061  7.18760282  1.12257026] \n",
      "\tE => -3.99991579326\n"
     ]
    },
    {
     "data": {
      "text/plain": [
       "(array([ 0.55843768,  0.45382061]), array([ 7.18760282,  1.12257026]))"
      ]
     },
     "execution_count": 13,
     "metadata": {},
     "output_type": "execute_result"
    }
   ],
   "source": [
    "square_ring = [(0,1),(1,2),(2,3),(3,0)]\n",
    "steps = 2; n_qubits = 4\n",
    "p = steps\n",
    "betas = np.random.uniform(0, np.pi, p); gammas = np.random.uniform(0, 2*np.pi, p)\n",
    "inst = maxcut_qaoa(square_ring, steps=steps)\n",
    "inst.get_angles()"
   ]
  },
  {
   "cell_type": "code",
   "execution_count": 14,
   "metadata": {},
   "outputs": [],
   "source": [
    "t = np.hstack((inst.betas, inst.gammas))\n",
    "param_prog = inst.get_parameterized_program()\n",
    "prog = param_prog(t)\n",
    "wf, _ = qvm_connection.wavefunction(prog)\n",
    "wf = wf.amplitudes"
   ]
  },
  {
   "cell_type": "code",
   "execution_count": 15,
   "metadata": {},
   "outputs": [
    {
     "name": "stdout",
     "output_type": "stream",
     "text": [
      "0000 [ 0.27144661+0.j]\n",
      "0001 [ 0.01612827+0.j]\n",
      "0010 [ 0.01612827+0.j]\n",
      "0011 [ 0.06470399+0.j]\n",
      "0100 [ 0.01612827+0.j]\n",
      "0101 [ 0.03463232+0.j]\n",
      "0110 [ 0.06470399+0.j]\n",
      "0111 [ 0.01612827+0.j]\n",
      "1000 [ 0.01612827+0.j]\n",
      "1001 [ 0.06470399+0.j]\n",
      "1010 [ 0.03463232+0.j]\n",
      "1011 [ 0.01612827+0.j]\n",
      "1100 [ 0.06470399+0.j]\n",
      "1101 [ 0.01612827+0.j]\n",
      "1110 [ 0.01612827+0.j]\n",
      "1111 [ 0.27144661+0.j]\n"
     ]
    }
   ],
   "source": [
    "for state_index in range(2**inst.n_qubits):\n",
    "    print inst.states[state_index], np.conj(wf[state_index])*wf[state_index]"
   ]
  },
  {
   "cell_type": "markdown",
   "metadata": {},
   "source": [
    "## Labels, control flow"
   ]
  },
  {
   "cell_type": "code",
   "execution_count": 4,
   "metadata": {},
   "outputs": [
    {
     "data": {
      "text/plain": [
       "<pyquil.quil.Program at 0x7f2f70005410>"
      ]
     },
     "execution_count": 4,
     "metadata": {},
     "output_type": "execute_result"
    }
   ],
   "source": [
    "prog = Program(X(0))\n",
    "\n",
    "prog.inst(HALT)\n",
    "\n",
    "prog.inst(X(0))"
   ]
  },
  {
   "cell_type": "code",
   "execution_count": 6,
   "metadata": {},
   "outputs": [
    {
     "name": "stdout",
     "output_type": "stream",
     "text": [
      "[<Gate: X 0>, <pyquil.quilbase.Halt object at 0x7f2f70b6d090>, <Gate: X 0>]\n"
     ]
    }
   ],
   "source": [
    "print prog.synthesize()"
   ]
  },
  {
   "cell_type": "markdown",
   "metadata": {},
   "source": [
    "## other QVM bugs"
   ]
  },
  {
   "cell_type": "code",
   "execution_count": 3,
   "metadata": {},
   "outputs": [
    {
     "data": {
      "text/plain": [
       "[[1, 0, 0]]"
      ]
     },
     "execution_count": 3,
     "metadata": {},
     "output_type": "execute_result"
    }
   ],
   "source": [
    "p = Program().inst(X(0))\n",
    "qvm.run_and_measure(p, [0, 1, 2], trials=1)"
   ]
  }
 ],
 "metadata": {
  "kernelspec": {
   "display_name": "Python 2",
   "language": "python",
   "name": "python2"
  },
  "language_info": {
   "codemirror_mode": {
    "name": "ipython",
    "version": 2
   },
   "file_extension": ".py",
   "mimetype": "text/x-python",
   "name": "python",
   "nbconvert_exporter": "python",
   "pygments_lexer": "ipython2",
   "version": "2.7.12"
  }
 },
 "nbformat": 4,
 "nbformat_minor": 2
}
